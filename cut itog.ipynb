{
 "cells": [
  {
   "cell_type": "code",
   "execution_count": 37,
   "id": "98ac40a6",
   "metadata": {},
   "outputs": [],
   "source": [
    "import numpy as np # linear algebra \n",
    "import pandas as pd # data processing, CSV file I/O (e.g. pd.read_csv)\n",
    "# stats models: regression fitting\n",
    "import statsmodels.formula.api as smf\n",
    "# data visualization\n",
    "import seaborn as sns\n",
    "from scipy.stats import t \n",
    "import statsmodels.api as sm\n",
    "import io\n",
    "import re\n",
    "from statsmodels.iolib.summary2 import summary_params\n",
    "from statsmodels.iolib.summary2 import summary_col\n",
    "import scipy.stats as stats"
   ]
  },
  {
   "cell_type": "markdown",
   "id": "1810c2d2",
   "metadata": {},
   "source": [
    "## Ex 1"
   ]
  },
  {
   "cell_type": "markdown",
   "id": "ef007a4a",
   "metadata": {},
   "source": [
    "для датасета wage1 регрессия log(wage)~ exper+smsa+married+south оценить регрессию и проверить значимость коэффициента для exper \n",
    "указать тестовую статистику, критическое значение и сделать вывод. ответ до 3 десят знаков. уровень значимости 1%"
   ]
  },
  {
   "cell_type": "code",
   "execution_count": 5,
   "id": "d32fbaf3",
   "metadata": {},
   "outputs": [
    {
     "data": {
      "text/plain": [
       "(526, 24)"
      ]
     },
     "execution_count": 5,
     "metadata": {},
     "output_type": "execute_result"
    }
   ],
   "source": [
    "df_wage1 = pd.read_csv('wage1.csv')\n",
    "df_wage1.shape"
   ]
  },
  {
   "cell_type": "code",
   "execution_count": 6,
   "id": "28e0149b",
   "metadata": {},
   "outputs": [
    {
     "data": {
      "text/html": [
       "<div>\n",
       "<style scoped>\n",
       "    .dataframe tbody tr th:only-of-type {\n",
       "        vertical-align: middle;\n",
       "    }\n",
       "\n",
       "    .dataframe tbody tr th {\n",
       "        vertical-align: top;\n",
       "    }\n",
       "\n",
       "    .dataframe thead th {\n",
       "        text-align: right;\n",
       "    }\n",
       "</style>\n",
       "<table border=\"1\" class=\"dataframe\">\n",
       "  <thead>\n",
       "    <tr style=\"text-align: right;\">\n",
       "      <th></th>\n",
       "      <th>wage</th>\n",
       "      <th>educ</th>\n",
       "      <th>exper</th>\n",
       "      <th>tenure</th>\n",
       "      <th>nonwhite</th>\n",
       "      <th>female</th>\n",
       "      <th>married</th>\n",
       "      <th>numdep</th>\n",
       "      <th>smsa</th>\n",
       "      <th>northcen</th>\n",
       "      <th>...</th>\n",
       "      <th>trcommpu</th>\n",
       "      <th>trade</th>\n",
       "      <th>services</th>\n",
       "      <th>profserv</th>\n",
       "      <th>profocc</th>\n",
       "      <th>clerocc</th>\n",
       "      <th>servocc</th>\n",
       "      <th>lwage</th>\n",
       "      <th>expersq</th>\n",
       "      <th>tenursq</th>\n",
       "    </tr>\n",
       "  </thead>\n",
       "  <tbody>\n",
       "    <tr>\n",
       "      <th>0</th>\n",
       "      <td>3.10</td>\n",
       "      <td>11</td>\n",
       "      <td>2</td>\n",
       "      <td>0</td>\n",
       "      <td>0</td>\n",
       "      <td>1</td>\n",
       "      <td>0</td>\n",
       "      <td>2</td>\n",
       "      <td>1</td>\n",
       "      <td>0</td>\n",
       "      <td>...</td>\n",
       "      <td>0</td>\n",
       "      <td>0</td>\n",
       "      <td>0</td>\n",
       "      <td>0</td>\n",
       "      <td>0</td>\n",
       "      <td>0</td>\n",
       "      <td>0</td>\n",
       "      <td>1.131402</td>\n",
       "      <td>4</td>\n",
       "      <td>0</td>\n",
       "    </tr>\n",
       "    <tr>\n",
       "      <th>1</th>\n",
       "      <td>3.24</td>\n",
       "      <td>12</td>\n",
       "      <td>22</td>\n",
       "      <td>2</td>\n",
       "      <td>0</td>\n",
       "      <td>1</td>\n",
       "      <td>1</td>\n",
       "      <td>3</td>\n",
       "      <td>1</td>\n",
       "      <td>0</td>\n",
       "      <td>...</td>\n",
       "      <td>0</td>\n",
       "      <td>0</td>\n",
       "      <td>1</td>\n",
       "      <td>0</td>\n",
       "      <td>0</td>\n",
       "      <td>0</td>\n",
       "      <td>1</td>\n",
       "      <td>1.175573</td>\n",
       "      <td>484</td>\n",
       "      <td>4</td>\n",
       "    </tr>\n",
       "    <tr>\n",
       "      <th>2</th>\n",
       "      <td>3.00</td>\n",
       "      <td>11</td>\n",
       "      <td>2</td>\n",
       "      <td>0</td>\n",
       "      <td>0</td>\n",
       "      <td>0</td>\n",
       "      <td>0</td>\n",
       "      <td>2</td>\n",
       "      <td>0</td>\n",
       "      <td>0</td>\n",
       "      <td>...</td>\n",
       "      <td>0</td>\n",
       "      <td>1</td>\n",
       "      <td>0</td>\n",
       "      <td>0</td>\n",
       "      <td>0</td>\n",
       "      <td>0</td>\n",
       "      <td>0</td>\n",
       "      <td>1.098612</td>\n",
       "      <td>4</td>\n",
       "      <td>0</td>\n",
       "    </tr>\n",
       "    <tr>\n",
       "      <th>3</th>\n",
       "      <td>6.00</td>\n",
       "      <td>8</td>\n",
       "      <td>44</td>\n",
       "      <td>28</td>\n",
       "      <td>0</td>\n",
       "      <td>0</td>\n",
       "      <td>1</td>\n",
       "      <td>0</td>\n",
       "      <td>1</td>\n",
       "      <td>0</td>\n",
       "      <td>...</td>\n",
       "      <td>0</td>\n",
       "      <td>0</td>\n",
       "      <td>0</td>\n",
       "      <td>0</td>\n",
       "      <td>0</td>\n",
       "      <td>1</td>\n",
       "      <td>0</td>\n",
       "      <td>1.791759</td>\n",
       "      <td>1936</td>\n",
       "      <td>784</td>\n",
       "    </tr>\n",
       "    <tr>\n",
       "      <th>4</th>\n",
       "      <td>5.30</td>\n",
       "      <td>12</td>\n",
       "      <td>7</td>\n",
       "      <td>2</td>\n",
       "      <td>0</td>\n",
       "      <td>0</td>\n",
       "      <td>1</td>\n",
       "      <td>1</td>\n",
       "      <td>0</td>\n",
       "      <td>0</td>\n",
       "      <td>...</td>\n",
       "      <td>0</td>\n",
       "      <td>0</td>\n",
       "      <td>0</td>\n",
       "      <td>0</td>\n",
       "      <td>0</td>\n",
       "      <td>0</td>\n",
       "      <td>0</td>\n",
       "      <td>1.667707</td>\n",
       "      <td>49</td>\n",
       "      <td>4</td>\n",
       "    </tr>\n",
       "  </tbody>\n",
       "</table>\n",
       "<p>5 rows × 24 columns</p>\n",
       "</div>"
      ],
      "text/plain": [
       "   wage  educ  exper  tenure  nonwhite  female  married  numdep  smsa  \\\n",
       "0  3.10    11      2       0         0       1        0       2     1   \n",
       "1  3.24    12     22       2         0       1        1       3     1   \n",
       "2  3.00    11      2       0         0       0        0       2     0   \n",
       "3  6.00     8     44      28         0       0        1       0     1   \n",
       "4  5.30    12      7       2         0       0        1       1     0   \n",
       "\n",
       "   northcen  ...  trcommpu  trade  services  profserv  profocc  clerocc  \\\n",
       "0         0  ...         0      0         0         0        0        0   \n",
       "1         0  ...         0      0         1         0        0        0   \n",
       "2         0  ...         0      1         0         0        0        0   \n",
       "3         0  ...         0      0         0         0        0        1   \n",
       "4         0  ...         0      0         0         0        0        0   \n",
       "\n",
       "   servocc     lwage  expersq  tenursq  \n",
       "0        0  1.131402        4        0  \n",
       "1        1  1.175573      484        4  \n",
       "2        0  1.098612        4        0  \n",
       "3        0  1.791759     1936      784  \n",
       "4        0  1.667707       49        4  \n",
       "\n",
       "[5 rows x 24 columns]"
      ]
     },
     "execution_count": 6,
     "metadata": {},
     "output_type": "execute_result"
    }
   ],
   "source": [
    "df_wage1.head()"
   ]
  },
  {
   "cell_type": "code",
   "execution_count": 18,
   "id": "b539a25b",
   "metadata": {},
   "outputs": [
    {
     "data": {
      "text/plain": [
       "Intercept    1.241\n",
       "exper        0.002\n",
       "smsa         0.259\n",
       "married      0.305\n",
       "south       -0.070\n",
       "dtype: float64"
      ]
     },
     "execution_count": 18,
     "metadata": {},
     "output_type": "execute_result"
    }
   ],
   "source": [
    "data = smf.ols(formula='np.log(wage)~exper+smsa+married+south',data=df_wage1).fit()\n",
    "data.params.round(3)"
   ]
  },
  {
   "cell_type": "code",
   "execution_count": 32,
   "id": "649a5e19",
   "metadata": {},
   "outputs": [
    {
     "data": {
      "text/html": [
       "<table class=\"simpletable\">\n",
       "<caption>OLS Regression Results</caption>\n",
       "<tr>\n",
       "  <th>Dep. Variable:</th>      <td>np.log(wage)</td>   <th>  R-squared:         </th> <td>   0.131</td>\n",
       "</tr>\n",
       "<tr>\n",
       "  <th>Model:</th>                   <td>OLS</td>       <th>  Adj. R-squared:    </th> <td>   0.124</td>\n",
       "</tr>\n",
       "<tr>\n",
       "  <th>Method:</th>             <td>Least Squares</td>  <th>  F-statistic:       </th> <td>   19.66</td>\n",
       "</tr>\n",
       "<tr>\n",
       "  <th>Date:</th>             <td>Tue, 02 May 2023</td> <th>  Prob (F-statistic):</th> <td>4.40e-15</td>\n",
       "</tr>\n",
       "<tr>\n",
       "  <th>Time:</th>                 <td>00:37:37</td>     <th>  Log-Likelihood:    </th> <td> -376.47</td>\n",
       "</tr>\n",
       "<tr>\n",
       "  <th>No. Observations:</th>      <td>   526</td>      <th>  AIC:               </th> <td>   762.9</td>\n",
       "</tr>\n",
       "<tr>\n",
       "  <th>Df Residuals:</th>          <td>   521</td>      <th>  BIC:               </th> <td>   784.3</td>\n",
       "</tr>\n",
       "<tr>\n",
       "  <th>Df Model:</th>              <td>     4</td>      <th>                     </th>     <td> </td>   \n",
       "</tr>\n",
       "<tr>\n",
       "  <th>Covariance Type:</th>      <td>nonrobust</td>    <th>                     </th>     <td> </td>   \n",
       "</tr>\n",
       "</table>\n",
       "<table class=\"simpletable\">\n",
       "<tr>\n",
       "      <td></td>         <th>coef</th>     <th>std err</th>      <th>t</th>      <th>P>|t|</th>  <th>[0.025</th>    <th>0.975]</th>  \n",
       "</tr>\n",
       "<tr>\n",
       "  <th>Intercept</th> <td>    1.2411</td> <td>    0.061</td> <td>   20.402</td> <td> 0.000</td> <td>    1.122</td> <td>    1.361</td>\n",
       "</tr>\n",
       "<tr>\n",
       "  <th>exper</th>     <td>    0.0020</td> <td>    0.002</td> <td>    1.187</td> <td> 0.236</td> <td>   -0.001</td> <td>    0.005</td>\n",
       "</tr>\n",
       "<tr>\n",
       "  <th>smsa</th>      <td>    0.2594</td> <td>    0.050</td> <td>    5.173</td> <td> 0.000</td> <td>    0.161</td> <td>    0.358</td>\n",
       "</tr>\n",
       "<tr>\n",
       "  <th>married</th>   <td>    0.3051</td> <td>    0.047</td> <td>    6.492</td> <td> 0.000</td> <td>    0.213</td> <td>    0.397</td>\n",
       "</tr>\n",
       "<tr>\n",
       "  <th>south</th>     <td>   -0.0704</td> <td>    0.047</td> <td>   -1.510</td> <td> 0.132</td> <td>   -0.162</td> <td>    0.021</td>\n",
       "</tr>\n",
       "</table>\n",
       "<table class=\"simpletable\">\n",
       "<tr>\n",
       "  <th>Omnibus:</th>       <td>15.934</td> <th>  Durbin-Watson:     </th> <td>   1.887</td>\n",
       "</tr>\n",
       "<tr>\n",
       "  <th>Prob(Omnibus):</th> <td> 0.000</td> <th>  Jarque-Bera (JB):  </th> <td>  17.406</td>\n",
       "</tr>\n",
       "<tr>\n",
       "  <th>Skew:</th>          <td> 0.370</td> <th>  Prob(JB):          </th> <td>0.000166</td>\n",
       "</tr>\n",
       "<tr>\n",
       "  <th>Kurtosis:</th>      <td> 3.496</td> <th>  Cond. No.          </th> <td>    77.4</td>\n",
       "</tr>\n",
       "</table><br/><br/>Notes:<br/>[1] Standard Errors assume that the covariance matrix of the errors is correctly specified."
      ],
      "text/plain": [
       "<class 'statsmodels.iolib.summary.Summary'>\n",
       "\"\"\"\n",
       "                            OLS Regression Results                            \n",
       "==============================================================================\n",
       "Dep. Variable:           np.log(wage)   R-squared:                       0.131\n",
       "Model:                            OLS   Adj. R-squared:                  0.124\n",
       "Method:                 Least Squares   F-statistic:                     19.66\n",
       "Date:                Tue, 02 May 2023   Prob (F-statistic):           4.40e-15\n",
       "Time:                        00:37:37   Log-Likelihood:                -376.47\n",
       "No. Observations:                 526   AIC:                             762.9\n",
       "Df Residuals:                     521   BIC:                             784.3\n",
       "Df Model:                           4                                         \n",
       "Covariance Type:            nonrobust                                         \n",
       "==============================================================================\n",
       "                 coef    std err          t      P>|t|      [0.025      0.975]\n",
       "------------------------------------------------------------------------------\n",
       "Intercept      1.2411      0.061     20.402      0.000       1.122       1.361\n",
       "exper          0.0020      0.002      1.187      0.236      -0.001       0.005\n",
       "smsa           0.2594      0.050      5.173      0.000       0.161       0.358\n",
       "married        0.3051      0.047      6.492      0.000       0.213       0.397\n",
       "south         -0.0704      0.047     -1.510      0.132      -0.162       0.021\n",
       "==============================================================================\n",
       "Omnibus:                       15.934   Durbin-Watson:                   1.887\n",
       "Prob(Omnibus):                  0.000   Jarque-Bera (JB):               17.406\n",
       "Skew:                           0.370   Prob(JB):                     0.000166\n",
       "Kurtosis:                       3.496   Cond. No.                         77.4\n",
       "==============================================================================\n",
       "\n",
       "Notes:\n",
       "[1] Standard Errors assume that the covariance matrix of the errors is correctly specified.\n",
       "\"\"\""
      ]
     },
     "execution_count": 32,
     "metadata": {},
     "output_type": "execute_result"
    }
   ],
   "source": [
    "data.summary()"
   ]
  },
  {
   "cell_type": "code",
   "execution_count": 33,
   "id": "c61a0ac9",
   "metadata": {},
   "outputs": [
    {
     "name": "stdout",
     "output_type": "stream",
     "text": [
      "Уровень значимости alpha:  0.01\n",
      "Критическое значение t_crit:  2.585\n"
     ]
    }
   ],
   "source": [
    "alpha = 0.01\n",
    "print('Уровень значимости alpha: ', alpha)\n",
    "DF = int(data.df_resid)\n",
    "t_crit = scipy.stats.t.ppf(1-alpha/2, DF)\n",
    "print('Критическое значение t_crit: ', t_crit.round(3))"
   ]
  },
  {
   "cell_type": "code",
   "execution_count": 34,
   "id": "8ddbe3e9",
   "metadata": {},
   "outputs": [
    {
     "data": {
      "text/plain": [
       "<class 'statsmodels.stats.contrast.ContrastResults'>\n",
       "                             Test for Constraints                             \n",
       "==============================================================================\n",
       "                 coef    std err          t      P>|t|      [0.025      0.975]\n",
       "------------------------------------------------------------------------------\n",
       "c0             0.0020      0.002      1.187      0.236      -0.001       0.005\n",
       "=============================================================================="
      ]
     },
     "execution_count": 34,
     "metadata": {},
     "output_type": "execute_result"
    }
   ],
   "source": [
    "data.t_test('exper=0')"
   ]
  },
  {
   "cell_type": "markdown",
   "id": "81430363",
   "metadata": {},
   "source": [
    "если т тест > т крит, то значим\n",
    "если нет, то не значим\n",
    "так как t-test=1.187< t_crit=2.585 не значим"
   ]
  },
  {
   "cell_type": "markdown",
   "id": "745c1de5",
   "metadata": {},
   "source": [
    "построить 90% доверительный интервал для коэффициента, округл до 3"
   ]
  },
  {
   "cell_type": "code",
   "execution_count": 39,
   "id": "b7f02ded",
   "metadata": {},
   "outputs": [
    {
     "data": {
      "text/html": [
       "<div>\n",
       "<style scoped>\n",
       "    .dataframe tbody tr th:only-of-type {\n",
       "        vertical-align: middle;\n",
       "    }\n",
       "\n",
       "    .dataframe tbody tr th {\n",
       "        vertical-align: top;\n",
       "    }\n",
       "\n",
       "    .dataframe thead th {\n",
       "        text-align: right;\n",
       "    }\n",
       "</style>\n",
       "<table border=\"1\" class=\"dataframe\">\n",
       "  <thead>\n",
       "    <tr style=\"text-align: right;\">\n",
       "      <th></th>\n",
       "      <th>0</th>\n",
       "      <th>1</th>\n",
       "    </tr>\n",
       "  </thead>\n",
       "  <tbody>\n",
       "    <tr>\n",
       "      <th>Intercept</th>\n",
       "      <td>1.141</td>\n",
       "      <td>1.341</td>\n",
       "    </tr>\n",
       "    <tr>\n",
       "      <th>exper</th>\n",
       "      <td>-0.001</td>\n",
       "      <td>0.005</td>\n",
       "    </tr>\n",
       "    <tr>\n",
       "      <th>smsa</th>\n",
       "      <td>0.177</td>\n",
       "      <td>0.342</td>\n",
       "    </tr>\n",
       "    <tr>\n",
       "      <th>married</th>\n",
       "      <td>0.228</td>\n",
       "      <td>0.383</td>\n",
       "    </tr>\n",
       "    <tr>\n",
       "      <th>south</th>\n",
       "      <td>-0.147</td>\n",
       "      <td>0.006</td>\n",
       "    </tr>\n",
       "  </tbody>\n",
       "</table>\n",
       "</div>"
      ],
      "text/plain": [
       "               0      1\n",
       "Intercept  1.141  1.341\n",
       "exper     -0.001  0.005\n",
       "smsa       0.177  0.342\n",
       "married    0.228  0.383\n",
       "south     -0.147  0.006"
      ]
     },
     "execution_count": 39,
     "metadata": {},
     "output_type": "execute_result"
    }
   ],
   "source": [
    "data.conf_int(alpha=0.10).round(3) #y=0,90 a=0,10"
   ]
  },
  {
   "cell_type": "markdown",
   "id": "0e440ac4",
   "metadata": {},
   "source": [
    "## EX 2"
   ]
  },
  {
   "cell_type": "markdown",
   "id": "958d3786",
   "metadata": {},
   "source": [
    "для датасета electricity регрессия log(cost) ~ log(q) +I(np.log(q)**2) оценить регр и проверить ее значимость через значения f！！！"
   ]
  },
  {
   "cell_type": "code",
   "execution_count": 38,
   "id": "9339f257",
   "metadata": {},
   "outputs": [
    {
     "data": {
      "text/plain": [
       "(158, 8)"
      ]
     },
     "execution_count": 38,
     "metadata": {},
     "output_type": "execute_result"
    }
   ],
   "source": [
    "df_el = pd.read_csv('electricity.csv')\n",
    "df_el.shape"
   ]
  },
  {
   "cell_type": "code",
   "execution_count": 39,
   "id": "286c59f2",
   "metadata": {},
   "outputs": [
    {
     "data": {
      "text/html": [
       "<div>\n",
       "<style scoped>\n",
       "    .dataframe tbody tr th:only-of-type {\n",
       "        vertical-align: middle;\n",
       "    }\n",
       "\n",
       "    .dataframe tbody tr th {\n",
       "        vertical-align: top;\n",
       "    }\n",
       "\n",
       "    .dataframe thead th {\n",
       "        text-align: right;\n",
       "    }\n",
       "</style>\n",
       "<table border=\"1\" class=\"dataframe\">\n",
       "  <thead>\n",
       "    <tr style=\"text-align: right;\">\n",
       "      <th></th>\n",
       "      <th>cost</th>\n",
       "      <th>q</th>\n",
       "      <th>pl</th>\n",
       "      <th>sl</th>\n",
       "      <th>pk</th>\n",
       "      <th>sk</th>\n",
       "      <th>pf</th>\n",
       "      <th>sf</th>\n",
       "    </tr>\n",
       "  </thead>\n",
       "  <tbody>\n",
       "    <tr>\n",
       "      <th>0</th>\n",
       "      <td>0.2130</td>\n",
       "      <td>8.0</td>\n",
       "      <td>6869.47</td>\n",
       "      <td>0.3291</td>\n",
       "      <td>64.945</td>\n",
       "      <td>0.4197</td>\n",
       "      <td>18.000</td>\n",
       "      <td>0.2512</td>\n",
       "    </tr>\n",
       "    <tr>\n",
       "      <th>1</th>\n",
       "      <td>3.0427</td>\n",
       "      <td>869.0</td>\n",
       "      <td>8372.96</td>\n",
       "      <td>0.1030</td>\n",
       "      <td>68.227</td>\n",
       "      <td>0.2913</td>\n",
       "      <td>21.067</td>\n",
       "      <td>0.6057</td>\n",
       "    </tr>\n",
       "    <tr>\n",
       "      <th>2</th>\n",
       "      <td>9.4059</td>\n",
       "      <td>1412.0</td>\n",
       "      <td>7960.90</td>\n",
       "      <td>0.0891</td>\n",
       "      <td>40.692</td>\n",
       "      <td>0.1567</td>\n",
       "      <td>41.530</td>\n",
       "      <td>0.7542</td>\n",
       "    </tr>\n",
       "    <tr>\n",
       "      <th>3</th>\n",
       "      <td>0.7606</td>\n",
       "      <td>65.0</td>\n",
       "      <td>8971.89</td>\n",
       "      <td>0.2802</td>\n",
       "      <td>41.243</td>\n",
       "      <td>0.1282</td>\n",
       "      <td>28.539</td>\n",
       "      <td>0.5916</td>\n",
       "    </tr>\n",
       "    <tr>\n",
       "      <th>4</th>\n",
       "      <td>2.2587</td>\n",
       "      <td>295.0</td>\n",
       "      <td>8218.40</td>\n",
       "      <td>0.1772</td>\n",
       "      <td>71.940</td>\n",
       "      <td>0.1623</td>\n",
       "      <td>39.200</td>\n",
       "      <td>0.6606</td>\n",
       "    </tr>\n",
       "  </tbody>\n",
       "</table>\n",
       "</div>"
      ],
      "text/plain": [
       "     cost       q       pl      sl      pk      sk      pf      sf\n",
       "0  0.2130     8.0  6869.47  0.3291  64.945  0.4197  18.000  0.2512\n",
       "1  3.0427   869.0  8372.96  0.1030  68.227  0.2913  21.067  0.6057\n",
       "2  9.4059  1412.0  7960.90  0.0891  40.692  0.1567  41.530  0.7542\n",
       "3  0.7606    65.0  8971.89  0.2802  41.243  0.1282  28.539  0.5916\n",
       "4  2.2587   295.0  8218.40  0.1772  71.940  0.1623  39.200  0.6606"
      ]
     },
     "execution_count": 39,
     "metadata": {},
     "output_type": "execute_result"
    }
   ],
   "source": [
    "df_el.head()"
   ]
  },
  {
   "cell_type": "code",
   "execution_count": 54,
   "id": "458be101",
   "metadata": {},
   "outputs": [
    {
     "data": {
      "text/plain": [
       "(158, 8)"
      ]
     },
     "execution_count": 54,
     "metadata": {},
     "output_type": "execute_result"
    }
   ],
   "source": [
    "data1 = smf.ols(formula='np.log(cost)~ q + np.log(pl)+ np.log(pk)+ np.log(pf)',data=df_el)\n",
    "ek=data1.fit()\n",
    "df_el.shape"
   ]
  },
  {
   "cell_type": "code",
   "execution_count": null,
   "id": "f47f8430",
   "metadata": {},
   "outputs": [],
   "source": []
  },
  {
   "cell_type": "code",
   "execution_count": 55,
   "id": "c01061c4",
   "metadata": {},
   "outputs": [
    {
     "name": "stdout",
     "output_type": "stream",
     "text": [
      "39.931\n"
     ]
    }
   ],
   "source": [
    "f_value=ek.fvalue\n",
    "print(np.round(el.fvalue,3))"
   ]
  },
  {
   "cell_type": "code",
   "execution_count": 57,
   "id": "a8641fe6",
   "metadata": {},
   "outputs": [
    {
     "data": {
      "text/plain": [
       "3.444"
      ]
     },
     "execution_count": 57,
     "metadata": {},
     "output_type": "execute_result"
    }
   ],
   "source": [
    "alpha=0.01\n",
    "dfn = int(ek.df_model)\n",
    "dfd= int(ek.df_resid)\n",
    "F_crit= stats.f.ppf(1-alpha, dfn, dfd)\n",
    "F_crit.round(3)"
   ]
  },
  {
   "cell_type": "code",
   "execution_count": 58,
   "id": "f4cc5f47",
   "metadata": {},
   "outputs": [
    {
     "name": "stdout",
     "output_type": "stream",
     "text": [
      "регрессия значима\n"
     ]
    }
   ],
   "source": [
    "if (f_value>F_crit): print ('регрессия значима')\n",
    "else: print ('регрессия незначима')"
   ]
  },
  {
   "cell_type": "markdown",
   "id": "d21b044d",
   "metadata": {},
   "source": [
    "## proverka"
   ]
  },
  {
   "cell_type": "markdown",
   "id": "696c8efa",
   "metadata": {},
   "source": [
    "Для набора данных Electricity рассмотрим линейную регрессию log(cost) на log(q), log(pl), log(pk), log(pf)"
   ]
  },
  {
   "cell_type": "code",
   "execution_count": 59,
   "id": "b78794d6",
   "metadata": {},
   "outputs": [
    {
     "data": {
      "text/plain": [
       "Intercept    -7.472\n",
       "np.log(q)     0.838\n",
       "np.log(pl)    0.044\n",
       "np.log(pk)    0.188\n",
       "np.log(pf)    0.713\n",
       "dtype: float64"
      ]
     },
     "execution_count": 59,
     "metadata": {},
     "output_type": "execute_result"
    }
   ],
   "source": [
    "data2 = smf.ols(formula='np.log(cost)~np.log(q)+np.log(pl)+np.log(pk)+np.log(pf)',data=df_el).fit()\n",
    "data2.params.round(3)"
   ]
  },
  {
   "cell_type": "code",
   "execution_count": 60,
   "id": "eb1dde87",
   "metadata": {},
   "outputs": [
    {
     "data": {
      "text/html": [
       "<table class=\"simpletable\">\n",
       "<caption>OLS Regression Results</caption>\n",
       "<tr>\n",
       "  <th>Dep. Variable:</th>      <td>np.log(cost)</td>   <th>  R-squared:         </th> <td>   0.982</td> \n",
       "</tr>\n",
       "<tr>\n",
       "  <th>Model:</th>                   <td>OLS</td>       <th>  Adj. R-squared:    </th> <td>   0.982</td> \n",
       "</tr>\n",
       "<tr>\n",
       "  <th>Method:</th>             <td>Least Squares</td>  <th>  F-statistic:       </th> <td>   2107.</td> \n",
       "</tr>\n",
       "<tr>\n",
       "  <th>Date:</th>             <td>Tue, 02 May 2023</td> <th>  Prob (F-statistic):</th> <td>1.25e-132</td>\n",
       "</tr>\n",
       "<tr>\n",
       "  <th>Time:</th>                 <td>01:20:15</td>     <th>  Log-Likelihood:    </th> <td>  25.928</td> \n",
       "</tr>\n",
       "<tr>\n",
       "  <th>No. Observations:</th>      <td>   158</td>      <th>  AIC:               </th> <td>  -41.86</td> \n",
       "</tr>\n",
       "<tr>\n",
       "  <th>Df Residuals:</th>          <td>   153</td>      <th>  BIC:               </th> <td>  -26.54</td> \n",
       "</tr>\n",
       "<tr>\n",
       "  <th>Df Model:</th>              <td>     4</td>      <th>                     </th>     <td> </td>    \n",
       "</tr>\n",
       "<tr>\n",
       "  <th>Covariance Type:</th>      <td>nonrobust</td>    <th>                     </th>     <td> </td>    \n",
       "</tr>\n",
       "</table>\n",
       "<table class=\"simpletable\">\n",
       "<tr>\n",
       "       <td></td>         <th>coef</th>     <th>std err</th>      <th>t</th>      <th>P>|t|</th>  <th>[0.025</th>    <th>0.975]</th>  \n",
       "</tr>\n",
       "<tr>\n",
       "  <th>Intercept</th>  <td>   -7.4722</td> <td>    1.063</td> <td>   -7.028</td> <td> 0.000</td> <td>   -9.573</td> <td>   -5.372</td>\n",
       "</tr>\n",
       "<tr>\n",
       "  <th>np.log(q)</th>  <td>    0.8381</td> <td>    0.009</td> <td>   89.284</td> <td> 0.000</td> <td>    0.820</td> <td>    0.857</td>\n",
       "</tr>\n",
       "<tr>\n",
       "  <th>np.log(pl)</th> <td>    0.0443</td> <td>    0.106</td> <td>    0.418</td> <td> 0.676</td> <td>   -0.165</td> <td>    0.253</td>\n",
       "</tr>\n",
       "<tr>\n",
       "  <th>np.log(pk)</th> <td>    0.1884</td> <td>    0.087</td> <td>    2.164</td> <td> 0.032</td> <td>    0.016</td> <td>    0.360</td>\n",
       "</tr>\n",
       "<tr>\n",
       "  <th>np.log(pf)</th> <td>    0.7131</td> <td>    0.064</td> <td>   11.081</td> <td> 0.000</td> <td>    0.586</td> <td>    0.840</td>\n",
       "</tr>\n",
       "</table>\n",
       "<table class=\"simpletable\">\n",
       "<tr>\n",
       "  <th>Omnibus:</th>       <td>43.278</td> <th>  Durbin-Watson:     </th> <td>   1.458</td>\n",
       "</tr>\n",
       "<tr>\n",
       "  <th>Prob(Omnibus):</th> <td> 0.000</td> <th>  Jarque-Bera (JB):  </th> <td> 109.870</td>\n",
       "</tr>\n",
       "<tr>\n",
       "  <th>Skew:</th>          <td> 1.123</td> <th>  Prob(JB):          </th> <td>1.39e-24</td>\n",
       "</tr>\n",
       "<tr>\n",
       "  <th>Kurtosis:</th>      <td> 6.413</td> <th>  Cond. No.          </th> <td>    866.</td>\n",
       "</tr>\n",
       "</table><br/><br/>Notes:<br/>[1] Standard Errors assume that the covariance matrix of the errors is correctly specified."
      ],
      "text/plain": [
       "<class 'statsmodels.iolib.summary.Summary'>\n",
       "\"\"\"\n",
       "                            OLS Regression Results                            \n",
       "==============================================================================\n",
       "Dep. Variable:           np.log(cost)   R-squared:                       0.982\n",
       "Model:                            OLS   Adj. R-squared:                  0.982\n",
       "Method:                 Least Squares   F-statistic:                     2107.\n",
       "Date:                Tue, 02 May 2023   Prob (F-statistic):          1.25e-132\n",
       "Time:                        01:20:15   Log-Likelihood:                 25.928\n",
       "No. Observations:                 158   AIC:                            -41.86\n",
       "Df Residuals:                     153   BIC:                            -26.54\n",
       "Df Model:                           4                                         \n",
       "Covariance Type:            nonrobust                                         \n",
       "==============================================================================\n",
       "                 coef    std err          t      P>|t|      [0.025      0.975]\n",
       "------------------------------------------------------------------------------\n",
       "Intercept     -7.4722      1.063     -7.028      0.000      -9.573      -5.372\n",
       "np.log(q)      0.8381      0.009     89.284      0.000       0.820       0.857\n",
       "np.log(pl)     0.0443      0.106      0.418      0.676      -0.165       0.253\n",
       "np.log(pk)     0.1884      0.087      2.164      0.032       0.016       0.360\n",
       "np.log(pf)     0.7131      0.064     11.081      0.000       0.586       0.840\n",
       "==============================================================================\n",
       "Omnibus:                       43.278   Durbin-Watson:                   1.458\n",
       "Prob(Omnibus):                  0.000   Jarque-Bera (JB):              109.870\n",
       "Skew:                           1.123   Prob(JB):                     1.39e-24\n",
       "Kurtosis:                       6.413   Cond. No.                         866.\n",
       "==============================================================================\n",
       "\n",
       "Notes:\n",
       "[1] Standard Errors assume that the covariance matrix of the errors is correctly specified.\n",
       "\"\"\""
      ]
     },
     "execution_count": 60,
     "metadata": {},
     "output_type": "execute_result"
    }
   ],
   "source": [
    "data2.summary()"
   ]
  },
  {
   "cell_type": "code",
   "execution_count": 61,
   "id": "04c32bfe",
   "metadata": {},
   "outputs": [
    {
     "data": {
      "text/plain": [
       "2.608"
      ]
     },
     "execution_count": 61,
     "metadata": {},
     "output_type": "execute_result"
    }
   ],
   "source": [
    "t_crit=t.ppf(q=1-0.01/2, df=data2.df_resid).round(3)\n",
    "t_crit"
   ]
  },
  {
   "cell_type": "code",
   "execution_count": 69,
   "id": "a07d17f7",
   "metadata": {},
   "outputs": [
    {
     "data": {
      "text/html": [
       "<div>\n",
       "<style scoped>\n",
       "    .dataframe tbody tr th:only-of-type {\n",
       "        vertical-align: middle;\n",
       "    }\n",
       "\n",
       "    .dataframe tbody tr th {\n",
       "        vertical-align: top;\n",
       "    }\n",
       "\n",
       "    .dataframe thead th {\n",
       "        text-align: right;\n",
       "    }\n",
       "</style>\n",
       "<table border=\"1\" class=\"dataframe\">\n",
       "  <thead>\n",
       "    <tr style=\"text-align: right;\">\n",
       "      <th></th>\n",
       "      <th>Coef.</th>\n",
       "      <th>Std.Err.</th>\n",
       "      <th>t</th>\n",
       "      <th>P&gt;|t|</th>\n",
       "      <th>[0.025</th>\n",
       "      <th>0.975]</th>\n",
       "    </tr>\n",
       "  </thead>\n",
       "  <tbody>\n",
       "    <tr>\n",
       "      <th>Intercept</th>\n",
       "      <td>-7.472</td>\n",
       "      <td>1.063</td>\n",
       "      <td>-7.028</td>\n",
       "      <td>0.000</td>\n",
       "      <td>-9.573</td>\n",
       "      <td>-5.372</td>\n",
       "    </tr>\n",
       "    <tr>\n",
       "      <th>np.log(q)</th>\n",
       "      <td>0.838</td>\n",
       "      <td>0.009</td>\n",
       "      <td>89.284</td>\n",
       "      <td>0.000</td>\n",
       "      <td>0.820</td>\n",
       "      <td>0.857</td>\n",
       "    </tr>\n",
       "    <tr>\n",
       "      <th>np.log(pl)</th>\n",
       "      <td>0.044</td>\n",
       "      <td>0.106</td>\n",
       "      <td>0.418</td>\n",
       "      <td>0.676</td>\n",
       "      <td>-0.165</td>\n",
       "      <td>0.253</td>\n",
       "    </tr>\n",
       "    <tr>\n",
       "      <th>np.log(pk)</th>\n",
       "      <td>0.188</td>\n",
       "      <td>0.087</td>\n",
       "      <td>2.164</td>\n",
       "      <td>0.032</td>\n",
       "      <td>0.016</td>\n",
       "      <td>0.360</td>\n",
       "    </tr>\n",
       "    <tr>\n",
       "      <th>np.log(pf)</th>\n",
       "      <td>0.713</td>\n",
       "      <td>0.064</td>\n",
       "      <td>11.081</td>\n",
       "      <td>0.000</td>\n",
       "      <td>0.586</td>\n",
       "      <td>0.840</td>\n",
       "    </tr>\n",
       "  </tbody>\n",
       "</table>\n",
       "</div>"
      ],
      "text/plain": [
       "            Coef.  Std.Err.       t  P>|t|  [0.025  0.975]\n",
       "Intercept  -7.472     1.063  -7.028  0.000  -9.573  -5.372\n",
       "np.log(q)   0.838     0.009  89.284  0.000   0.820   0.857\n",
       "np.log(pl)  0.044     0.106   0.418  0.676  -0.165   0.253\n",
       "np.log(pk)  0.188     0.087   2.164  0.032   0.016   0.360\n",
       "np.log(pf)  0.713     0.064  11.081  0.000   0.586   0.840"
      ]
     },
     "execution_count": 69,
     "metadata": {},
     "output_type": "execute_result"
    }
   ],
   "source": [
    "summary_params(data2).round(3)"
   ]
  },
  {
   "cell_type": "code",
   "execution_count": 70,
   "id": "6707c755",
   "metadata": {},
   "outputs": [],
   "source": [
    "table2 = pd.read_html(data2.summary().tables[1].as_html(), header=0, index_col=0)[0]"
   ]
  },
  {
   "cell_type": "code",
   "execution_count": 71,
   "id": "bad6cd04",
   "metadata": {},
   "outputs": [
    {
     "data": {
      "text/html": [
       "<div>\n",
       "<style scoped>\n",
       "    .dataframe tbody tr th:only-of-type {\n",
       "        vertical-align: middle;\n",
       "    }\n",
       "\n",
       "    .dataframe tbody tr th {\n",
       "        vertical-align: top;\n",
       "    }\n",
       "\n",
       "    .dataframe thead th {\n",
       "        text-align: right;\n",
       "    }\n",
       "</style>\n",
       "<table border=\"1\" class=\"dataframe\">\n",
       "  <thead>\n",
       "    <tr style=\"text-align: right;\">\n",
       "      <th></th>\n",
       "      <th>coef</th>\n",
       "      <th>std err</th>\n",
       "      <th>t</th>\n",
       "      <th>P&gt;|t|</th>\n",
       "      <th>[0.025</th>\n",
       "      <th>0.975]</th>\n",
       "      <th>significance</th>\n",
       "    </tr>\n",
       "  </thead>\n",
       "  <tbody>\n",
       "    <tr>\n",
       "      <th>Intercept</th>\n",
       "      <td>-7.4722</td>\n",
       "      <td>1.063</td>\n",
       "      <td>-7.028</td>\n",
       "      <td>0.000</td>\n",
       "      <td>-9.573</td>\n",
       "      <td>-5.372</td>\n",
       "      <td>Значим</td>\n",
       "    </tr>\n",
       "    <tr>\n",
       "      <th>np.log(q)</th>\n",
       "      <td>0.8381</td>\n",
       "      <td>0.009</td>\n",
       "      <td>89.284</td>\n",
       "      <td>0.000</td>\n",
       "      <td>0.820</td>\n",
       "      <td>0.857</td>\n",
       "      <td>Значим</td>\n",
       "    </tr>\n",
       "    <tr>\n",
       "      <th>np.log(pl)</th>\n",
       "      <td>0.0443</td>\n",
       "      <td>0.106</td>\n",
       "      <td>0.418</td>\n",
       "      <td>0.676</td>\n",
       "      <td>-0.165</td>\n",
       "      <td>0.253</td>\n",
       "      <td>Незначим</td>\n",
       "    </tr>\n",
       "    <tr>\n",
       "      <th>np.log(pk)</th>\n",
       "      <td>0.1884</td>\n",
       "      <td>0.087</td>\n",
       "      <td>2.164</td>\n",
       "      <td>0.032</td>\n",
       "      <td>0.016</td>\n",
       "      <td>0.360</td>\n",
       "      <td>Незначим</td>\n",
       "    </tr>\n",
       "    <tr>\n",
       "      <th>np.log(pf)</th>\n",
       "      <td>0.7131</td>\n",
       "      <td>0.064</td>\n",
       "      <td>11.081</td>\n",
       "      <td>0.000</td>\n",
       "      <td>0.586</td>\n",
       "      <td>0.840</td>\n",
       "      <td>Значим</td>\n",
       "    </tr>\n",
       "  </tbody>\n",
       "</table>\n",
       "</div>"
      ],
      "text/plain": [
       "              coef  std err       t  P>|t|  [0.025  0.975] significance\n",
       "Intercept  -7.4722    1.063  -7.028  0.000  -9.573  -5.372       Значим\n",
       "np.log(q)   0.8381    0.009  89.284  0.000   0.820   0.857       Значим\n",
       "np.log(pl)  0.0443    0.106   0.418  0.676  -0.165   0.253     Незначим\n",
       "np.log(pk)  0.1884    0.087   2.164  0.032   0.016   0.360     Незначим\n",
       "np.log(pf)  0.7131    0.064  11.081  0.000   0.586   0.840       Значим"
      ]
     },
     "execution_count": 71,
     "metadata": {},
     "output_type": "execute_result"
    }
   ],
   "source": [
    "table2['significance'] = table2.apply(lambda x : 'Значим' if np.abs(x['t']) > t_crit else 'Незначим', axis = 1 )\n",
    "table2"
   ]
  },
  {
   "cell_type": "markdown",
   "id": "a3d867f5",
   "metadata": {},
   "source": [
    "## EX 3\n"
   ]
  },
  {
   "cell_type": "code",
   "execution_count": 82,
   "id": "b7636014",
   "metadata": {},
   "outputs": [
    {
     "data": {
      "text/plain": [
       "(158, 8)"
      ]
     },
     "execution_count": 82,
     "metadata": {},
     "output_type": "execute_result"
    }
   ],
   "source": [
    "df_electro = pd.read_csv('electricity.csv')\n",
    "data3 = smf.ols(formula='np.log(cost)~ np.log(q)+np.log(pl)+np.log(pk)+np.log(pf)',data=df_electro)\n",
    "el=data3.fit()\n",
    "df.shape\n"
   ]
  },
  {
   "cell_type": "code",
   "execution_count": 83,
   "id": "c8e1d03f",
   "metadata": {},
   "outputs": [
    {
     "data": {
      "text/plain": [
       "2.431"
      ]
     },
     "execution_count": 83,
     "metadata": {},
     "output_type": "execute_result"
    }
   ],
   "source": [
    "alpha=0.05\n",
    "dfn = int(el.df_model)\n",
    "dfd= int(el.df_resid)\n",
    "F_crit= stats.f.ppf(1-alpha, dfn, dfd)\n",
    "F_crit.round(3)"
   ]
  },
  {
   "cell_type": "code",
   "execution_count": 84,
   "id": "69280eb5",
   "metadata": {},
   "outputs": [
    {
     "data": {
      "text/plain": [
       "47.812"
      ]
     },
     "execution_count": 84,
     "metadata": {},
     "output_type": "execute_result"
    }
   ],
   "source": [
    "F_stat= el.f_test('np.log(pl)=np.log(pk)=np.log(pf)=0')\n",
    "np.round(F_stat.fvalue,3)"
   ]
  },
  {
   "cell_type": "code",
   "execution_count": 86,
   "id": "a1dce822",
   "metadata": {},
   "outputs": [
    {
     "name": "stdout",
     "output_type": "stream",
     "text": [
      "влияние значимо\n"
     ]
    }
   ],
   "source": [
    "if (F_stat.fvalue > F_crit): print('влияние значимо')\n",
    "else: print('влияние не значимо')"
   ]
  },
  {
   "cell_type": "code",
   "execution_count": 80,
   "id": "4fa46805",
   "metadata": {},
   "outputs": [
    {
     "data": {
      "text/plain": [
       "2.664"
      ]
     },
     "execution_count": 80,
     "metadata": {},
     "output_type": "execute_result"
    }
   ],
   "source": [
    "# критическое значение\n",
    "stats.f.ppf(q=1-0.05, dfn=3, dfd=el.df_resid).round(3)"
   ]
  },
  {
   "cell_type": "markdown",
   "id": "289c3165",
   "metadata": {},
   "source": [
    "## EX4"
   ]
  },
  {
   "cell_type": "markdown",
   "id": "62417816",
   "metadata": {},
   "source": [
    "для датасета labour рассмотрим регрессию log(output) na log(capital)+log(labour)+log(wage) оцените модель и тестируйте гипотезу $H_0: \\quad \\beta_1[log(wage)]=1$ "
   ]
  },
  {
   "cell_type": "code",
   "execution_count": 101,
   "id": "32517822",
   "metadata": {},
   "outputs": [
    {
     "data": {
      "text/plain": [
       "(569, 4)"
      ]
     },
     "execution_count": 101,
     "metadata": {},
     "output_type": "execute_result"
    }
   ],
   "source": [
    "df_la = pd.read_csv('labour.csv')\n",
    "df_la.shape"
   ]
  },
  {
   "cell_type": "code",
   "execution_count": 102,
   "id": "6ac56234",
   "metadata": {},
   "outputs": [
    {
     "data": {
      "text/plain": [
       "Intercept         -5.007\n",
       "np.log(capital)    0.149\n",
       "np.log(labour)     0.720\n",
       "np.log(wage)       0.921\n",
       "dtype: float64"
      ]
     },
     "execution_count": 102,
     "metadata": {},
     "output_type": "execute_result"
    }
   ],
   "source": [
    "data4 = smf.ols(formula='np.log(output)~np.log(capital)+np.log(labour)+np.log(wage)',data=df_la).fit()\n",
    "data4.params.round(3)"
   ]
  },
  {
   "cell_type": "code",
   "execution_count": 103,
   "id": "17aec9d2",
   "metadata": {},
   "outputs": [
    {
     "data": {
      "text/plain": [
       "<class 'statsmodels.stats.contrast.ContrastResults'>\n",
       "                             Test for Constraints                             \n",
       "==============================================================================\n",
       "                 coef    std err          t      P>|t|      [0.025      0.975]\n",
       "------------------------------------------------------------------------------\n",
       "c0             0.9214      0.058     -1.365      0.173       0.808       1.034\n",
       "=============================================================================="
      ]
     },
     "execution_count": 103,
     "metadata": {},
     "output_type": "execute_result"
    }
   ],
   "source": [
    "# формулируем гипотезу\n",
    "hypotheses = 'np.log(wage)=1' # Запись означает: коэффициент при регрессоре log(capital) равен 1\n",
    "# проверяем гипотезу\n",
    "data4.t_test(hypotheses)"
   ]
  },
  {
   "cell_type": "code",
   "execution_count": 100,
   "id": "0f5f52fc",
   "metadata": {},
   "outputs": [
    {
     "name": "stdout",
     "output_type": "stream",
     "text": [
      "Уровень значимости alpha:  0.05\n",
      "Критическое значение t_crit:  1.964\n"
     ]
    }
   ],
   "source": [
    "alpha = 0.05\n",
    "print('Уровень значимости alpha: ', alpha)\n",
    "DF = int(data4.df_resid)\n",
    "t_crit = stats.t.ppf(1-alpha/2, DF)\n",
    "print('Критическое значение t_crit: ', t_crit.round(3))"
   ]
  },
  {
   "cell_type": "code",
   "execution_count": 105,
   "id": "6c09d13e",
   "metadata": {},
   "outputs": [
    {
     "data": {
      "text/plain": [
       "1.964"
      ]
     },
     "execution_count": 105,
     "metadata": {},
     "output_type": "execute_result"
    }
   ],
   "source": [
    "# 5%-критическое значение t-распределения\n",
    "t.ppf(q=1-0.05/2, df=data4.df_resid).round(3)"
   ]
  },
  {
   "cell_type": "markdown",
   "id": "54d3571c",
   "metadata": {},
   "source": [
    "$ВЫВОД: так как |t-value|=1.365< t-crit=1.964=> не отвергаем H0 => коэффициент при регрессоре log(wage) незначимо отличается от числа 1$"
   ]
  },
  {
   "cell_type": "code",
   "execution_count": null,
   "id": "738390d5",
   "metadata": {},
   "outputs": [],
   "source": []
  },
  {
   "cell_type": "markdown",
   "id": "b17b07c0",
   "metadata": {},
   "source": [
    "## EX 5"
   ]
  },
  {
   "cell_type": "markdown",
   "id": "52bd6837",
   "metadata": {},
   "source": [
    "для датасета sleep75 рассмотрим регрессию sleep na totwrk+age+I(age^2)+male+south+union\n",
    "оценить значимость структурных сдвигов относительно dummy-переменной marr. укажите тестовую статистику, крит знач и сделайте вывод. ур знач 10%"
   ]
  },
  {
   "cell_type": "code",
   "execution_count": 92,
   "id": "fe295a85",
   "metadata": {},
   "outputs": [
    {
     "data": {
      "text/plain": [
       "(706, 34)"
      ]
     },
     "execution_count": 92,
     "metadata": {},
     "output_type": "execute_result"
    }
   ],
   "source": [
    "df_sleep = pd.read_csv('sleep75.csv')\n",
    "df_sleep.shape"
   ]
  },
  {
   "cell_type": "code",
   "execution_count": 114,
   "id": "8d051979",
   "metadata": {},
   "outputs": [
    {
     "data": {
      "text/plain": [
       "Intercept      3613.676\n",
       "totwrk           -0.167\n",
       "age              -6.460\n",
       "I(age ** 2)       0.112\n",
       "male             89.823\n",
       "south           115.317\n",
       "union            16.732\n",
       "dtype: float64"
      ]
     },
     "execution_count": 114,
     "metadata": {},
     "output_type": "execute_result"
    }
   ],
   "source": [
    "data5 = smf.ols(formula='sleep~totwrk+age+I(age ** 2)+male+south+union',data=df_sleep).fit()\n",
    "data5.params.round(3)"
   ]
  },
  {
   "cell_type": "code",
   "execution_count": 95,
   "id": "31406f4f",
   "metadata": {},
   "outputs": [
    {
     "data": {
      "text/html": [
       "<table class=\"simpletable\">\n",
       "<caption>OLS Regression Results</caption>\n",
       "<tr>\n",
       "  <th>Dep. Variable:</th>          <td>sleep</td>      <th>  R-squared:         </th> <td>   0.128</td> \n",
       "</tr>\n",
       "<tr>\n",
       "  <th>Model:</th>                   <td>OLS</td>       <th>  Adj. R-squared:    </th> <td>   0.120</td> \n",
       "</tr>\n",
       "<tr>\n",
       "  <th>Method:</th>             <td>Least Squares</td>  <th>  F-statistic:       </th> <td>   17.09</td> \n",
       "</tr>\n",
       "<tr>\n",
       "  <th>Date:</th>             <td>Tue, 02 May 2023</td> <th>  Prob (F-statistic):</th> <td>1.77e-18</td> \n",
       "</tr>\n",
       "<tr>\n",
       "  <th>Time:</th>                 <td>02:28:36</td>     <th>  Log-Likelihood:    </th> <td> -5257.3</td> \n",
       "</tr>\n",
       "<tr>\n",
       "  <th>No. Observations:</th>      <td>   706</td>      <th>  AIC:               </th> <td>1.053e+04</td>\n",
       "</tr>\n",
       "<tr>\n",
       "  <th>Df Residuals:</th>          <td>   699</td>      <th>  BIC:               </th> <td>1.056e+04</td>\n",
       "</tr>\n",
       "<tr>\n",
       "  <th>Df Model:</th>              <td>     6</td>      <th>                     </th>     <td> </td>    \n",
       "</tr>\n",
       "<tr>\n",
       "  <th>Covariance Type:</th>      <td>nonrobust</td>    <th>                     </th>     <td> </td>    \n",
       "</tr>\n",
       "</table>\n",
       "<table class=\"simpletable\">\n",
       "<tr>\n",
       "       <td></td>          <th>coef</th>     <th>std err</th>      <th>t</th>      <th>P>|t|</th>  <th>[0.025</th>    <th>0.975]</th>  \n",
       "</tr>\n",
       "<tr>\n",
       "  <th>Intercept</th>   <td> 3613.6758</td> <td>  218.560</td> <td>   16.534</td> <td> 0.000</td> <td> 3184.563</td> <td> 4042.788</td>\n",
       "</tr>\n",
       "<tr>\n",
       "  <th>totwrk</th>      <td>   -0.1672</td> <td>    0.018</td> <td>   -9.212</td> <td> 0.000</td> <td>   -0.203</td> <td>   -0.132</td>\n",
       "</tr>\n",
       "<tr>\n",
       "  <th>age</th>         <td>   -6.4598</td> <td>   11.207</td> <td>   -0.576</td> <td> 0.565</td> <td>  -28.464</td> <td>   15.544</td>\n",
       "</tr>\n",
       "<tr>\n",
       "  <th>I(age ** 2)</th> <td>    0.1116</td> <td>    0.134</td> <td>    0.833</td> <td> 0.405</td> <td>   -0.151</td> <td>    0.375</td>\n",
       "</tr>\n",
       "<tr>\n",
       "  <th>male</th>        <td>   89.8231</td> <td>   34.307</td> <td>    2.618</td> <td> 0.009</td> <td>   22.465</td> <td>  157.181</td>\n",
       "</tr>\n",
       "<tr>\n",
       "  <th>south</th>       <td>  115.3167</td> <td>   40.698</td> <td>    2.833</td> <td> 0.005</td> <td>   35.411</td> <td>  195.222</td>\n",
       "</tr>\n",
       "<tr>\n",
       "  <th>union</th>       <td>   16.7319</td> <td>   38.128</td> <td>    0.439</td> <td> 0.661</td> <td>  -58.128</td> <td>   91.592</td>\n",
       "</tr>\n",
       "</table>\n",
       "<table class=\"simpletable\">\n",
       "<tr>\n",
       "  <th>Omnibus:</th>       <td>60.830</td> <th>  Durbin-Watson:     </th> <td>   1.944</td>\n",
       "</tr>\n",
       "<tr>\n",
       "  <th>Prob(Omnibus):</th> <td> 0.000</td> <th>  Jarque-Bera (JB):  </th> <td> 164.145</td>\n",
       "</tr>\n",
       "<tr>\n",
       "  <th>Skew:</th>          <td>-0.434</td> <th>  Prob(JB):          </th> <td>2.27e-36</td>\n",
       "</tr>\n",
       "<tr>\n",
       "  <th>Kurtosis:</th>      <td> 5.197</td> <th>  Cond. No.          </th> <td>3.95e+04</td>\n",
       "</tr>\n",
       "</table><br/><br/>Notes:<br/>[1] Standard Errors assume that the covariance matrix of the errors is correctly specified.<br/>[2] The condition number is large, 3.95e+04. This might indicate that there are<br/>strong multicollinearity or other numerical problems."
      ],
      "text/plain": [
       "<class 'statsmodels.iolib.summary.Summary'>\n",
       "\"\"\"\n",
       "                            OLS Regression Results                            \n",
       "==============================================================================\n",
       "Dep. Variable:                  sleep   R-squared:                       0.128\n",
       "Model:                            OLS   Adj. R-squared:                  0.120\n",
       "Method:                 Least Squares   F-statistic:                     17.09\n",
       "Date:                Tue, 02 May 2023   Prob (F-statistic):           1.77e-18\n",
       "Time:                        02:28:36   Log-Likelihood:                -5257.3\n",
       "No. Observations:                 706   AIC:                         1.053e+04\n",
       "Df Residuals:                     699   BIC:                         1.056e+04\n",
       "Df Model:                           6                                         \n",
       "Covariance Type:            nonrobust                                         \n",
       "===============================================================================\n",
       "                  coef    std err          t      P>|t|      [0.025      0.975]\n",
       "-------------------------------------------------------------------------------\n",
       "Intercept    3613.6758    218.560     16.534      0.000    3184.563    4042.788\n",
       "totwrk         -0.1672      0.018     -9.212      0.000      -0.203      -0.132\n",
       "age            -6.4598     11.207     -0.576      0.565     -28.464      15.544\n",
       "I(age ** 2)     0.1116      0.134      0.833      0.405      -0.151       0.375\n",
       "male           89.8231     34.307      2.618      0.009      22.465     157.181\n",
       "south         115.3167     40.698      2.833      0.005      35.411     195.222\n",
       "union          16.7319     38.128      0.439      0.661     -58.128      91.592\n",
       "==============================================================================\n",
       "Omnibus:                       60.830   Durbin-Watson:                   1.944\n",
       "Prob(Omnibus):                  0.000   Jarque-Bera (JB):              164.145\n",
       "Skew:                          -0.434   Prob(JB):                     2.27e-36\n",
       "Kurtosis:                       5.197   Cond. No.                     3.95e+04\n",
       "==============================================================================\n",
       "\n",
       "Notes:\n",
       "[1] Standard Errors assume that the covariance matrix of the errors is correctly specified.\n",
       "[2] The condition number is large, 3.95e+04. This might indicate that there are\n",
       "strong multicollinearity or other numerical problems.\n",
       "\"\"\""
      ]
     },
     "execution_count": 95,
     "metadata": {},
     "output_type": "execute_result"
    }
   ],
   "source": [
    "data5.summary()"
   ]
  },
  {
   "cell_type": "code",
   "execution_count": 119,
   "id": "4e51f6b5",
   "metadata": {},
   "outputs": [],
   "source": [
    "df_sleep['sleep'] = df_sleep['sleep']"
   ]
  },
  {
   "cell_type": "code",
   "execution_count": 121,
   "id": "043a60a7",
   "metadata": {},
   "outputs": [],
   "source": [
    "# Отфильтруем датафрейм по married признаку\n",
    "sleep_marr = df_sleep[df_sleep['marr']==1] # Датафрейм для замужних\n",
    "sleep_nmarr = df_sleep[df_sleep['marr']==0] # Датафрейм дла незамужних"
   ]
  },
  {
   "cell_type": "code",
   "execution_count": 122,
   "id": "aa4e37a8",
   "metadata": {},
   "outputs": [],
   "source": [
    "slp = smf.ols(data= df_sleep, formula='sleep~totwrk+age+I(age ** 2)+male+south+union').fit()\n",
    "slp_marr = smf.ols(data= sleep_marr, formula='sleep~totwrk+age+I(age ** 2)+male+south+union').fit()\n",
    "slp_nmarr = smf.ols(data= sleep_nmarr, formula='sleep~totwrk+age+I(age ** 2)+male+south+union').fit()"
   ]
  },
  {
   "cell_type": "code",
   "execution_count": 123,
   "id": "c45d9217",
   "metadata": {},
   "outputs": [
    {
     "name": "stdout",
     "output_type": "stream",
     "text": [
      "RSS:121431161.34, RSS_1:94436758.81,RSS_2:94436758.81 \n"
     ]
    }
   ],
   "source": [
    "print(f'RSS:{slp.ssr.round(2)}, RSS_1:{slp_marr.ssr.round(2)},RSS_2:{slp_marr.ssr.round(2)} ')"
   ]
  },
  {
   "cell_type": "code",
   "execution_count": 125,
   "id": "55b96ec2",
   "metadata": {},
   "outputs": [
    {
     "data": {
      "text/plain": [
       "0.657"
      ]
     },
     "execution_count": 125,
     "metadata": {},
     "output_type": "execute_result"
    }
   ],
   "source": [
    "F_obl =( slp.ssr - (slp_marr.ssr + slp_nmarr.ssr) )/((slp_marr.ssr + slp_nmarr.ssr)) * (len( sleep_nmarr ) + len( sleep_marr ) - 14) / 7\n",
    "F_obl.round(3)"
   ]
  },
  {
   "cell_type": "code",
   "execution_count": 149,
   "id": "a3e3d201",
   "metadata": {},
   "outputs": [
    {
     "data": {
      "text/plain": [
       "1.725"
      ]
     },
     "execution_count": 149,
     "metadata": {},
     "output_type": "execute_result"
    }
   ],
   "source": [
    "alpha = 0.10\n",
    "F_crit=stats.f.ppf(1-alpha,7,len( sleep_nmarr ) + len( sleep_marr ) - 14  ).round(3)\n",
    "F_crit"
   ]
  },
  {
   "cell_type": "code",
   "execution_count": 150,
   "id": "b2381aab",
   "metadata": {},
   "outputs": [
    {
     "name": "stdout",
     "output_type": "stream",
     "text": [
      "не отвергаем H0, структурные изменения незначимы\n"
     ]
    }
   ],
   "source": [
    "if (F_obl > F_crit):\n",
    "    print('отвергаем H0, структурные изменения значимы')\n",
    "else:\n",
    "    print('не отвергаем H0, структурные изменения незначимы')"
   ]
  },
  {
   "cell_type": "markdown",
   "id": "bb48d9a4",
   "metadata": {},
   "source": [
    "## PROVERKA IZ ART"
   ]
  },
  {
   "cell_type": "code",
   "execution_count": 136,
   "id": "2b59ca37",
   "metadata": {},
   "outputs": [],
   "source": [
    "#Определим датафрейм\n",
    "sleep_df = pd.read_csv('https://raw.githubusercontent.com/artamonoff/Econometrica/master/python-notebooks/data-csv/sleep75.csv')\n",
    "sleep_df['sleep60'] = sleep_df['sleep']/60 # создадим столбец часов времени\n",
    "# Отфильтруем датафрейм по гендерному признаку\n",
    "sleep_male = sleep_df[sleep_df['male']==1] # Датафрейм для мужчин\n",
    "sleep_female = sleep_df[sleep_df['male']==0] # Датафрейм дла женщин"
   ]
  },
  {
   "cell_type": "code",
   "execution_count": 137,
   "id": "db8791d1",
   "metadata": {},
   "outputs": [
    {
     "data": {
      "text/html": [
       "<table class=\"simpletable\">\n",
       "<caption>OLS Regression Results</caption>\n",
       "<tr>\n",
       "  <th>Dep. Variable:</th>          <td>sleep</td>      <th>  R-squared:         </th> <td>   0.128</td> \n",
       "</tr>\n",
       "<tr>\n",
       "  <th>Model:</th>                   <td>OLS</td>       <th>  Adj. R-squared:    </th> <td>   0.120</td> \n",
       "</tr>\n",
       "<tr>\n",
       "  <th>Method:</th>             <td>Least Squares</td>  <th>  F-statistic:       </th> <td>   17.09</td> \n",
       "</tr>\n",
       "<tr>\n",
       "  <th>Date:</th>             <td>Tue, 02 May 2023</td> <th>  Prob (F-statistic):</th> <td>1.77e-18</td> \n",
       "</tr>\n",
       "<tr>\n",
       "  <th>Time:</th>                 <td>11:19:45</td>     <th>  Log-Likelihood:    </th> <td> -5257.3</td> \n",
       "</tr>\n",
       "<tr>\n",
       "  <th>No. Observations:</th>      <td>   706</td>      <th>  AIC:               </th> <td>1.053e+04</td>\n",
       "</tr>\n",
       "<tr>\n",
       "  <th>Df Residuals:</th>          <td>   699</td>      <th>  BIC:               </th> <td>1.056e+04</td>\n",
       "</tr>\n",
       "<tr>\n",
       "  <th>Df Model:</th>              <td>     6</td>      <th>                     </th>     <td> </td>    \n",
       "</tr>\n",
       "<tr>\n",
       "  <th>Covariance Type:</th>      <td>nonrobust</td>    <th>                     </th>     <td> </td>    \n",
       "</tr>\n",
       "</table>\n",
       "<table class=\"simpletable\">\n",
       "<tr>\n",
       "       <td></td>          <th>coef</th>     <th>std err</th>      <th>t</th>      <th>P>|t|</th>  <th>[0.025</th>    <th>0.975]</th>  \n",
       "</tr>\n",
       "<tr>\n",
       "  <th>Intercept</th>   <td> 3613.6758</td> <td>  218.560</td> <td>   16.534</td> <td> 0.000</td> <td> 3184.563</td> <td> 4042.788</td>\n",
       "</tr>\n",
       "<tr>\n",
       "  <th>totwrk</th>      <td>   -0.1672</td> <td>    0.018</td> <td>   -9.212</td> <td> 0.000</td> <td>   -0.203</td> <td>   -0.132</td>\n",
       "</tr>\n",
       "<tr>\n",
       "  <th>age</th>         <td>   -6.4598</td> <td>   11.207</td> <td>   -0.576</td> <td> 0.565</td> <td>  -28.464</td> <td>   15.544</td>\n",
       "</tr>\n",
       "<tr>\n",
       "  <th>I(age ** 2)</th> <td>    0.1116</td> <td>    0.134</td> <td>    0.833</td> <td> 0.405</td> <td>   -0.151</td> <td>    0.375</td>\n",
       "</tr>\n",
       "<tr>\n",
       "  <th>male</th>        <td>   89.8231</td> <td>   34.307</td> <td>    2.618</td> <td> 0.009</td> <td>   22.465</td> <td>  157.181</td>\n",
       "</tr>\n",
       "<tr>\n",
       "  <th>south</th>       <td>  115.3167</td> <td>   40.698</td> <td>    2.833</td> <td> 0.005</td> <td>   35.411</td> <td>  195.222</td>\n",
       "</tr>\n",
       "<tr>\n",
       "  <th>union</th>       <td>   16.7319</td> <td>   38.128</td> <td>    0.439</td> <td> 0.661</td> <td>  -58.128</td> <td>   91.592</td>\n",
       "</tr>\n",
       "</table>\n",
       "<table class=\"simpletable\">\n",
       "<tr>\n",
       "  <th>Omnibus:</th>       <td>60.830</td> <th>  Durbin-Watson:     </th> <td>   1.944</td>\n",
       "</tr>\n",
       "<tr>\n",
       "  <th>Prob(Omnibus):</th> <td> 0.000</td> <th>  Jarque-Bera (JB):  </th> <td> 164.145</td>\n",
       "</tr>\n",
       "<tr>\n",
       "  <th>Skew:</th>          <td>-0.434</td> <th>  Prob(JB):          </th> <td>2.27e-36</td>\n",
       "</tr>\n",
       "<tr>\n",
       "  <th>Kurtosis:</th>      <td> 5.197</td> <th>  Cond. No.          </th> <td>3.95e+04</td>\n",
       "</tr>\n",
       "</table><br/><br/>Notes:<br/>[1] Standard Errors assume that the covariance matrix of the errors is correctly specified.<br/>[2] The condition number is large, 3.95e+04. This might indicate that there are<br/>strong multicollinearity or other numerical problems."
      ],
      "text/plain": [
       "<class 'statsmodels.iolib.summary.Summary'>\n",
       "\"\"\"\n",
       "                            OLS Regression Results                            \n",
       "==============================================================================\n",
       "Dep. Variable:                  sleep   R-squared:                       0.128\n",
       "Model:                            OLS   Adj. R-squared:                  0.120\n",
       "Method:                 Least Squares   F-statistic:                     17.09\n",
       "Date:                Tue, 02 May 2023   Prob (F-statistic):           1.77e-18\n",
       "Time:                        11:19:45   Log-Likelihood:                -5257.3\n",
       "No. Observations:                 706   AIC:                         1.053e+04\n",
       "Df Residuals:                     699   BIC:                         1.056e+04\n",
       "Df Model:                           6                                         \n",
       "Covariance Type:            nonrobust                                         \n",
       "===============================================================================\n",
       "                  coef    std err          t      P>|t|      [0.025      0.975]\n",
       "-------------------------------------------------------------------------------\n",
       "Intercept    3613.6758    218.560     16.534      0.000    3184.563    4042.788\n",
       "totwrk         -0.1672      0.018     -9.212      0.000      -0.203      -0.132\n",
       "age            -6.4598     11.207     -0.576      0.565     -28.464      15.544\n",
       "I(age ** 2)     0.1116      0.134      0.833      0.405      -0.151       0.375\n",
       "male           89.8231     34.307      2.618      0.009      22.465     157.181\n",
       "south         115.3167     40.698      2.833      0.005      35.411     195.222\n",
       "union          16.7319     38.128      0.439      0.661     -58.128      91.592\n",
       "==============================================================================\n",
       "Omnibus:                       60.830   Durbin-Watson:                   1.944\n",
       "Prob(Omnibus):                  0.000   Jarque-Bera (JB):              164.145\n",
       "Skew:                          -0.434   Prob(JB):                     2.27e-36\n",
       "Kurtosis:                       5.197   Cond. No.                     3.95e+04\n",
       "==============================================================================\n",
       "\n",
       "Notes:\n",
       "[1] Standard Errors assume that the covariance matrix of the errors is correctly specified.\n",
       "[2] The condition number is large, 3.95e+04. This might indicate that there are\n",
       "strong multicollinearity or other numerical problems.\n",
       "\"\"\""
      ]
     },
     "execution_count": 137,
     "metadata": {},
     "output_type": "execute_result"
    },
    {
     "data": {
      "image/png": "[encoded data removed]",
      "text/plain": [
       "<Figure size 558.875x500 with 1 Axes>"
      ]
     },
     "metadata": {},
     "output_type": "display_data"
    }
   ],
   "source": [
    "sns.lmplot(data=sleep_df, y='sleep', x='totwrk',hue='male')\n",
    "slp.summary()"
   ]
  },
  {
   "cell_type": "code",
   "execution_count": 138,
   "id": "09138e99",
   "metadata": {},
   "outputs": [],
   "source": [
    "slp = smf.ols(data= sleep_df, formula='sleep60~totwrk+age+I(age**2)+south +smsa +marr').fit()\n",
    "slp_ml = smf.ols(data= sleep_male, formula='sleep60~totwrk+age+I(age**2)+south +smsa +marr').fit()\n",
    "slp_fml = smf.ols(data= sleep_female, formula='sleep60~totwrk+age+I(age**2)+south +smsa +marr').fit()"
   ]
  },
  {
   "cell_type": "code",
   "execution_count": 139,
   "id": "3d54411c",
   "metadata": {},
   "outputs": [
    {
     "name": "stdout",
     "output_type": "stream",
     "text": [
      "RSS:33859.8, RSS_1:17618.98,RSS_2:17618.98 \n"
     ]
    }
   ],
   "source": [
    "print(f'RSS:{slp.ssr.round(2)}, RSS_1:{slp_ml.ssr.round(2)},RSS_2:{slp_ml.ssr.round(2)} ')"
   ]
  },
  {
   "cell_type": "code",
   "execution_count": 146,
   "id": "a8cf1e89",
   "metadata": {},
   "outputs": [
    {
     "data": {
      "text/plain": [
       "1.551"
      ]
     },
     "execution_count": 146,
     "metadata": {},
     "output_type": "execute_result"
    }
   ],
   "source": [
    "F_obl1 =( slp.ssr - (slp_ml.ssr + slp_fml.ssr) )/((slp_ml.ssr + slp_fml.ssr)) * (len( sleep_female ) + len( sleep_male ) - 14) / 7\n",
    "F_obl1.round(3)"
   ]
  },
  {
   "cell_type": "code",
   "execution_count": 147,
   "id": "2a62a807",
   "metadata": {},
   "outputs": [
    {
     "data": {
      "text/plain": [
       "2.665"
      ]
     },
     "execution_count": 147,
     "metadata": {},
     "output_type": "execute_result"
    }
   ],
   "source": [
    "alpha = 0.01\n",
    "F_crit1=stats.f.ppf(1-alpha,7,len( sleep_female ) + len( sleep_male ) - 14  )\n",
    "F_crit1.round(3)"
   ]
  },
  {
   "cell_type": "code",
   "execution_count": 148,
   "id": "dc0c1ed2",
   "metadata": {},
   "outputs": [
    {
     "name": "stdout",
     "output_type": "stream",
     "text": [
      "не отвергаем H0, структурные изменения незначимы\n"
     ]
    }
   ],
   "source": [
    "if (F_obl1 > F_crit1):\n",
    "    print('отвергаем H0, структурные изменения значимы')\n",
    "else:\n",
    "    print('не отвергаем H0, структурные изменения незначимы')"
   ]
  },
  {
   "cell_type": "markdown",
   "id": "5ab7240b",
   "metadata": {},
   "source": [
    "## EX 5 Берковское задание"
   ]
  },
  {
   "cell_type": "code",
   "execution_count": 108,
   "id": "99f4fdf2",
   "metadata": {},
   "outputs": [
    {
     "data": {
      "text/plain": [
       "(706, 34)"
      ]
     },
     "execution_count": 108,
     "metadata": {},
     "output_type": "execute_result"
    }
   ],
   "source": [
    "df_sleep = pd.read_csv('sleep75.csv')\n",
    "df_sleep.shape"
   ]
  },
  {
   "cell_type": "code",
   "execution_count": 109,
   "id": "f8c3dbe9",
   "metadata": {},
   "outputs": [
    {
     "data": {
      "text/plain": [
       "Intercept    3410.808\n",
       "totwrk         -0.168\n",
       "age             2.800\n",
       "male           84.384\n",
       "south         118.082\n",
       "marr           36.630\n",
       "union          15.700\n",
       "dtype: float64"
      ]
     },
     "execution_count": 109,
     "metadata": {},
     "output_type": "execute_result"
    }
   ],
   "source": [
    "data6 = smf.ols(formula='sleep~totwrk+age+male+south+marr+union',data=df_sleep).fit()\n",
    "data6.params.round(3)"
   ]
  },
  {
   "cell_type": "code",
   "execution_count": 115,
   "id": "8fd5ee51",
   "metadata": {},
   "outputs": [],
   "source": [
    "# Отфильтруем датафрейм по признаку smsa\n",
    "sleep_smsa = df_sleep[df_sleep['smsa']==1] # Датафрейм для живущих в мегаполисе\n",
    "sleep_nsmsa = df_sleep[df_sleep['smsa']==0] # Датафрейм дла тех кто не живет в мегаполисе\n"
   ]
  },
  {
   "cell_type": "code",
   "execution_count": 116,
   "id": "c351475f",
   "metadata": {},
   "outputs": [],
   "source": [
    "slp = smf.ols(data= df_sleep, formula='sleep~totwrk+age+male+south+marr+union').fit()\n",
    "slp_smsa = smf.ols(data= sleep_smsa, formula='sleep~totwrk+age+male+south+marr+union').fit()\n",
    "slp_nsmsa = smf.ols(data= sleep_nsmsa, formula='sleep~totwrk+age+male+marr+south+union').fit()"
   ]
  },
  {
   "cell_type": "code",
   "execution_count": 117,
   "id": "275200d9",
   "metadata": {},
   "outputs": [
    {
     "name": "stdout",
     "output_type": "stream",
     "text": [
      "RSS:121418130.129, RSS_1:42632713.629,RSS_2:42632713.63 \n"
     ]
    }
   ],
   "source": [
    "print(f'RSS:{slp.ssr.round(3)}, RSS_1:{slp_smsa.ssr.round(3)},RSS_2:{slp_smsa.ssr.round(2)} ')"
   ]
  },
  {
   "cell_type": "markdown",
   "id": "5686c0fe",
   "metadata": {},
   "source": [
    "---"
   ]
  },
  {
   "cell_type": "code",
   "execution_count": 118,
   "id": "ce51b3d9",
   "metadata": {},
   "outputs": [
    {
     "data": {
      "text/html": [
       "<table class=\"simpletable\">\n",
       "<tr>\n",
       "         <td></td>          <th>мегаполис</th>  <th>нет мегаполиса</th>     <th>Общая</th>   \n",
       "</tr>\n",
       "<tr>\n",
       "  <th>Intercept</th>      <td>3478.9308***</td>  <td>3373.0343***</td>  <td>3410.8078***</td>\n",
       "</tr>\n",
       "<tr>\n",
       "  <th></th>                <td>(111.1708)</td>    <td>(105.5365)</td>     <td>(76.7741)</td> \n",
       "</tr>\n",
       "<tr>\n",
       "  <th>totwrk</th>          <td>-0.1871***</td>    <td>-0.1603***</td>    <td>-0.1678***</td> \n",
       "</tr>\n",
       "<tr>\n",
       "  <th></th>                 <td>(0.0281)</td>      <td>(0.0239)</td>      <td>(0.0180)</td>  \n",
       "</tr>\n",
       "<tr>\n",
       "  <th>age</th>               <td>2.2962</td>        <td>3.2742*</td>      <td>2.8004**</td>  \n",
       "</tr>\n",
       "<tr>\n",
       "  <th></th>                 <td>(2.0711)</td>      <td>(1.8775)</td>      <td>(1.3889)</td>  \n",
       "</tr>\n",
       "<tr>\n",
       "  <th>male</th>             <td>97.3943*</td>      <td>84.6980*</td>      <td>84.3841**</td> \n",
       "</tr>\n",
       "<tr>\n",
       "  <th></th>                 <td>(53.1835)</td>     <td>(46.8894)</td>     <td>(34.9319)</td> \n",
       "</tr>\n",
       "<tr>\n",
       "  <th>south</th>            <td>167.6170*</td>     <td>87.3136*</td>     <td>118.0815***</td>\n",
       "</tr>\n",
       "<tr>\n",
       "  <th></th>                 <td>(92.9944)</td>     <td>(48.0801)</td>     <td>(40.6470)</td> \n",
       "</tr>\n",
       "<tr>\n",
       "  <th>marr</th>             <td>-23.7337</td>       <td>72.5759</td>       <td>36.6300</td>  \n",
       "</tr>\n",
       "<tr>\n",
       "  <th></th>                 <td>(59.3493)</td>     <td>(58.9811)</td>     <td>(41.7602)</td> \n",
       "</tr>\n",
       "<tr>\n",
       "  <th>union</th>             <td>5.2414</td>        <td>19.3829</td>       <td>15.6996</td>  \n",
       "</tr>\n",
       "<tr>\n",
       "  <th></th>                 <td>(59.3917)</td>     <td>(49.9238)</td>     <td>(38.0878)</td> \n",
       "</tr>\n",
       "<tr>\n",
       "  <th>R-squared</th>         <td>0.1483</td>        <td>0.1204</td>        <td>0.1280</td>   \n",
       "</tr>\n",
       "<tr>\n",
       "  <th>R-squared Adj.</th>    <td>0.1297</td>        <td>0.1078</td>        <td>0.1205</td>   \n",
       "</tr>\n",
       "<tr>\n",
       "  <th>N</th>                <td>282.0000</td>      <td>424.0000</td>      <td>706.0000</td>  \n",
       "</tr>\n",
       "<tr>\n",
       "  <th>F-stat</th>            <td>7.9796</td>        <td>9.5166</td>        <td>17.0998</td>  \n",
       "</tr>\n",
       "</table>"
      ],
      "text/plain": [
       "<class 'statsmodels.iolib.summary2.Summary'>\n",
       "\"\"\"\n",
       "\n",
       "=======================================================\n",
       "                мегаполис   нет мегаполиса    Общая    \n",
       "-------------------------------------------------------\n",
       "Intercept      3478.9308*** 3373.0343***   3410.8078***\n",
       "               (111.1708)   (105.5365)     (76.7741)   \n",
       "totwrk         -0.1871***   -0.1603***     -0.1678***  \n",
       "               (0.0281)     (0.0239)       (0.0180)    \n",
       "age            2.2962       3.2742*        2.8004**    \n",
       "               (2.0711)     (1.8775)       (1.3889)    \n",
       "male           97.3943*     84.6980*       84.3841**   \n",
       "               (53.1835)    (46.8894)      (34.9319)   \n",
       "south          167.6170*    87.3136*       118.0815*** \n",
       "               (92.9944)    (48.0801)      (40.6470)   \n",
       "marr           -23.7337     72.5759        36.6300     \n",
       "               (59.3493)    (58.9811)      (41.7602)   \n",
       "union          5.2414       19.3829        15.6996     \n",
       "               (59.3917)    (49.9238)      (38.0878)   \n",
       "R-squared      0.1483       0.1204         0.1280      \n",
       "R-squared Adj. 0.1297       0.1078         0.1205      \n",
       "N              282.0000     424.0000       706.0000    \n",
       "F-stat         7.9796       9.5166         17.0998     \n",
       "=======================================================\n",
       "Standard errors in parentheses.\n",
       "* p<.1, ** p<.05, ***p<.01\n",
       "\"\"\""
      ]
     },
     "execution_count": 118,
     "metadata": {},
     "output_type": "execute_result"
    }
   ],
   "source": [
    "df_sleep = pd.read_csv('sleep75.csv')\n",
    "specification = 'sleep~totwrk+age+male+south+marr+union'\n",
    "# подгонка по полному датасету\n",
    "mod_overall = smf.ols(formula=specification, data=df_sleep).fit()\n",
    "# подгонка только по М\n",
    "mod_smsa = smf.ols(formula=specification, data=df_sleep[ df_sleep['smsa']==1 ]).fit()\n",
    "# подгонка только по Ж\n",
    "mod_no_smsa = smf.ols(formula=specification, data=df_sleep[ df_sleep['smsa']==0 ]).fit()\n",
    "# Вывод трёх регрессий в одной таблице\n",
    "summary_col(results=[mod_smsa, mod_no_smsa, mod_overall], stars=True, model_names=['мегаполис', 'нет мегаполиса', 'Общая'],\n",
    "           info_dict={'N': lambda x: x.nobs, 'F-stat': lambda x: x.fvalue})"
   ]
  },
  {
   "cell_type": "code",
   "execution_count": 119,
   "id": "a7f0d730",
   "metadata": {},
   "outputs": [
    {
     "name": "stdout",
     "output_type": "stream",
     "text": [
      "RSS (overall)= 121418130.12945709\n",
      "RSS (smsa)= 42632713.6289296\n",
      "RSS (no_smsa)= 77893881.34161535\n",
      "n= 706.0\n",
      "k= 6.0\n"
     ]
    }
   ],
   "source": [
    "# Ингредиенты тестовой статистики\n",
    "print('RSS (overall)=', mod_overall.ssr)\n",
    "print('RSS (smsa)=', mod_smsa.ssr)\n",
    "print('RSS (no_smsa)=', mod_no_smsa.ssr)\n",
    "print('n=', mod_overall.nobs)\n",
    "print('k=', mod_overall.df_model)"
   ]
  },
  {
   "cell_type": "code",
   "execution_count": 125,
   "id": "046b18df",
   "metadata": {},
   "outputs": [
    {
     "data": {
      "text/plain": [
       "(0.731, 1.725)"
      ]
     },
     "execution_count": 125,
     "metadata": {},
     "output_type": "execute_result"
    }
   ],
   "source": [
    "F = (mod_overall.ssr-mod_smsa.ssr-mod_no_smsa.ssr)/(mod_smsa.ssr+mod_no_smsa.ssr)*(mod_overall.nobs-2*(mod_overall.df_model+1))/(mod_overall.df_model+1)\n",
    "F_cr = stats.f.ppf(q=1-0.1, dfn=mod_overall.df_model+1, dfd=mod_overall.nobs-2*(mod_overall.df_model+1))\n",
    "F.round(3), F_cr.round(3)"
   ]
  },
  {
   "cell_type": "code",
   "execution_count": 124,
   "id": "f5d2eb61",
   "metadata": {},
   "outputs": [
    {
     "name": "stdout",
     "output_type": "stream",
     "text": [
      "не отвергаем H0, структурные изменения незначимы\n"
     ]
    }
   ],
   "source": [
    "if (F > F_cr):\n",
    "    print('отвергаем H0, структурные изменения значимы')\n",
    "else:\n",
    "    print('не отвергаем H0, структурные изменения незначимы')"
   ]
  },
  {
   "cell_type": "code",
   "execution_count": null,
   "id": "e7f4d70e",
   "metadata": {},
   "outputs": [],
   "source": []
  }
 ],
 "metadata": {
  "kernelspec": {
   "display_name": "Python 3 (ipykernel)",
   "language": "python",
   "name": "python3"
  },
  "language_info": {
   "codemirror_mode": {
    "name": "ipython",
    "version": 3
   },
   "file_extension": ".py",
   "mimetype": "text/x-python",
   "name": "python",
   "nbconvert_exporter": "python",
   "pygments_lexer": "ipython3",
   "version": "3.9.13"
  }
 },
 "nbformat": 4,
 "nbformat_minor": 5
}
