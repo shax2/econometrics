{
 "cells": [
  {
   "cell_type": "markdown",
   "id": "fd3f82d9",
   "metadata": {},
   "source": [
    "# ЗАДАНИЕ 1"
   ]
  },
  {
   "cell_type": "code",
   "execution_count": 48,
   "id": "019c35d1",
   "metadata": {},
   "outputs": [],
   "source": [
    "import pandas as pd\n",
    "import numpy as np\n",
    "import statsmodels.formula.api as smf\n",
    "import statsmodels.api as sm\n",
    "from statsmodels.iolib.summary2 import summary_params # вывод результатов тестирования\n",
    "from scipy.stats import t # t-распределение"
   ]
  },
  {
   "cell_type": "code",
   "execution_count": 49,
   "id": "ab7616d8",
   "metadata": {},
   "outputs": [
    {
     "data": {
      "text/plain": [
       "Intercept    1.241\n",
       "exper        0.002\n",
       "smsa         0.259\n",
       "married      0.305\n",
       "south       -0.070\n",
       "dtype: float64"
      ]
     },
     "execution_count": 49,
     "metadata": {},
     "output_type": "execute_result"
    }
   ],
   "source": [
    "# Загрузим данные\n",
    "df_wage1 = pd.read_csv('https://raw.githubusercontent.com/artamonoff/Econometrica/master/python-notebooks/data-csv/wage1.csv'2)\n",
    "mod1 = smf.ols(formula='np.log(wage)~exper+smsa+married+south', data=df_wage1).fit()\n",
    "# коэффициенты\n",
    "mod1.params.round(3)"
   ]
  },
  {
   "cell_type": "code",
   "execution_count": 50,
   "id": "5a49fbdb",
   "metadata": {},
   "outputs": [
    {
     "data": {
      "text/plain": [
       "(526.0, 4.0, 521.0)"
      ]
     },
     "execution_count": 50,
     "metadata": {},
     "output_type": "execute_result"
    }
   ],
   "source": [
    "# Число наблюдений в модели, число регрессоров и степени свободы для t_cr\n",
    "mod1.nobs, mod1.df_model, mod1.df_resid"
   ]
  },
  {
   "cell_type": "code",
   "execution_count": 55,
   "id": "4e4191da",
   "metadata": {},
   "outputs": [
    {
     "data": {
      "text/plain": [
       "2.585"
      ]
     },
     "execution_count": 55,
     "metadata": {},
     "output_type": "execute_result"
    }
   ],
   "source": [
    "# 1%-критическое значение t-распределения\n",
    "t.ppf(q=1-0.01/2, df=mod1.df_resid).round(3)"
   ]
  },
  {
   "cell_type": "code",
   "execution_count": 53,
   "id": "de1a6d09",
   "metadata": {},
   "outputs": [
    {
     "data": {
      "text/plain": [
       "<class 'statsmodels.stats.contrast.ContrastResults'>\n",
       "                             Test for Constraints                             \n",
       "==============================================================================\n",
       "                 coef    std err          t      P>|t|      [0.025      0.975]\n",
       "------------------------------------------------------------------------------\n",
       "c0             0.0020      0.002      1.187      0.236      -0.001       0.005\n",
       "=============================================================================="
      ]
     },
     "execution_count": 53,
     "metadata": {},
     "output_type": "execute_result"
    }
   ],
   "source": [
    "#значимость_выбранных_коэффициентов\n",
    "mod1.t_test('exper=0')"
   ]
  },
  {
   "cell_type": "code",
   "execution_count": 54,
   "id": "0ff1c5e7",
   "metadata": {},
   "outputs": [],
   "source": [
    "#тестовая_статистика_это_t_1.187"
   ]
  },
  {
   "cell_type": "code",
   "execution_count": 56,
   "id": "b2bb0c53",
   "metadata": {},
   "outputs": [],
   "source": [
    "#коэф_незначим_потому_что_критическое_значение_больше_тестового"
   ]
  },
  {
   "cell_type": "code",
   "execution_count": 60,
   "id": "6c00fd2a",
   "metadata": {
    "scrolled": true
   },
   "outputs": [
    {
     "data": {
      "text/html": [
       "<div>\n",
       "<style scoped>\n",
       "    .dataframe tbody tr th:only-of-type {\n",
       "        vertical-align: middle;\n",
       "    }\n",
       "\n",
       "    .dataframe tbody tr th {\n",
       "        vertical-align: top;\n",
       "    }\n",
       "\n",
       "    .dataframe thead th {\n",
       "        text-align: right;\n",
       "    }\n",
       "</style>\n",
       "<table border=\"1\" class=\"dataframe\">\n",
       "  <thead>\n",
       "    <tr style=\"text-align: right;\">\n",
       "      <th></th>\n",
       "      <th>0</th>\n",
       "      <th>1</th>\n",
       "    </tr>\n",
       "  </thead>\n",
       "  <tbody>\n",
       "    <tr>\n",
       "      <th>Intercept</th>\n",
       "      <td>1.141</td>\n",
       "      <td>1.341</td>\n",
       "    </tr>\n",
       "    <tr>\n",
       "      <th>exper</th>\n",
       "      <td>-0.001</td>\n",
       "      <td>0.005</td>\n",
       "    </tr>\n",
       "    <tr>\n",
       "      <th>smsa</th>\n",
       "      <td>0.177</td>\n",
       "      <td>0.342</td>\n",
       "    </tr>\n",
       "    <tr>\n",
       "      <th>married</th>\n",
       "      <td>0.228</td>\n",
       "      <td>0.383</td>\n",
       "    </tr>\n",
       "    <tr>\n",
       "      <th>south</th>\n",
       "      <td>-0.147</td>\n",
       "      <td>0.006</td>\n",
       "    </tr>\n",
       "  </tbody>\n",
       "</table>\n",
       "</div>"
      ],
      "text/plain": [
       "               0      1\n",
       "Intercept  1.141  1.341\n",
       "exper     -0.001  0.005\n",
       "smsa       0.177  0.342\n",
       "married    0.228  0.383\n",
       "south     -0.147  0.006"
      ]
     },
     "execution_count": 60,
     "metadata": {},
     "output_type": "execute_result"
    }
   ],
   "source": [
    "#доверительный_интервал\n",
    "mod1.conf_int(alpha=0.1).round(3)"
   ]
  },
  {
   "cell_type": "markdown",
   "id": "d8367fc1",
   "metadata": {},
   "source": [
    "# ЗАДАНИЕ 2"
   ]
  },
  {
   "cell_type": "code",
   "execution_count": 40,
   "id": "c66f0187",
   "metadata": {},
   "outputs": [],
   "source": [
    "import pandas as pd\n",
    "import numpy as np\n",
    "import statsmodels.formula.api as smf\n",
    "import statsmodels.api as sm\n",
    "from statsmodels.iolib.summary2 import summary_params # вывод результатов тестирования\n",
    "from scipy.stats import f # F-распределени"
   ]
  },
  {
   "cell_type": "code",
   "execution_count": 41,
   "id": "d4f834ce",
   "metadata": {},
   "outputs": [],
   "source": [
    "# загрузим данные\n",
    "Electricity_df = pd.read_csv('https://raw.githubusercontent.com/artamonoff/Econometrica/master/python-notebooks/data-csv/Electricity.csv')\n",
    "# подгоним модель\n",
    "mod1 = smf.ols(formula='np.log(cost)~np.log(q)+I(np.log(q)**2)', data=Electricity_df).fit()"
   ]
  },
  {
   "cell_type": "code",
   "execution_count": 42,
   "id": "6338f511",
   "metadata": {},
   "outputs": [
    {
     "data": {
      "text/plain": [
       "(3185.767, 0.0)"
      ]
     },
     "execution_count": 42,
     "metadata": {},
     "output_type": "execute_result"
    }
   ],
   "source": [
    "#F_тестовая_статистика\n",
    "mod1.fvalue.round(3), mod1.f_pvalue.round(3)"
   ]
  },
  {
   "cell_type": "code",
   "execution_count": 43,
   "id": "445898d4",
   "metadata": {},
   "outputs": [
    {
     "data": {
      "text/plain": [
       "3.054"
      ]
     },
     "execution_count": 43,
     "metadata": {},
     "output_type": "execute_result"
    }
   ],
   "source": [
    "#критическое_значение\n",
    "f.ppf(q=1-0.05, dfn=mod1.df_model, dfd=mod1.df_resid).round(3)"
   ]
  },
  {
   "cell_type": "code",
   "execution_count": 44,
   "id": "1042fccb",
   "metadata": {},
   "outputs": [],
   "source": [
    "#тестовая_статистика_больше_критического_значения=>регрессия_значима"
   ]
  },
  {
   "cell_type": "markdown",
   "id": "32b8a0fe",
   "metadata": {},
   "source": [
    "# ЗАДАНИЕ 3"
   ]
  },
  {
   "cell_type": "code",
   "execution_count": 18,
   "id": "9e52f98a",
   "metadata": {},
   "outputs": [],
   "source": [
    "import pandas as pd\n",
    "import numpy as np\n",
    "import statsmodels.formula.api as smf\n",
    "import statsmodels.api as sm\n",
    "from statsmodels.iolib.summary2 import summary_col # вывод подгонки\n",
    "from scipy.stats import f # F-распределение"
   ]
  },
  {
   "cell_type": "code",
   "execution_count": 19,
   "id": "37ad12cd",
   "metadata": {},
   "outputs": [
    {
     "data": {
      "text/html": [
       "<table class=\"simpletable\">\n",
       "<caption>OLS Regression Results</caption>\n",
       "<tr>\n",
       "  <th>Dep. Variable:</th>    <td>np.log(cost)</td> <th>  R-squared:         </th> <td>   0.982</td> \n",
       "</tr>\n",
       "<tr>\n",
       "  <th>Model:</th>                 <td>OLS</td>     <th>  Adj. R-squared:    </th> <td>   0.982</td> \n",
       "</tr>\n",
       "<tr>\n",
       "  <th>No. Observations:</th>    <td>   158</td>    <th>  F-statistic:       </th> <td>   2107.</td> \n",
       "</tr>\n",
       "<tr>\n",
       "  <th>Covariance Type:</th>    <td>nonrobust</td>  <th>  Prob (F-statistic):</th> <td>1.25e-132</td>\n",
       "</tr>\n",
       "</table>\n",
       "<table class=\"simpletable\">\n",
       "<tr>\n",
       "       <td></td>         <th>coef</th>     <th>std err</th>      <th>t</th>      <th>P>|t|</th>  <th>[0.025</th>    <th>0.975]</th>  \n",
       "</tr>\n",
       "<tr>\n",
       "  <th>Intercept</th>  <td>   -7.4722</td> <td>    1.063</td> <td>   -7.028</td> <td> 0.000</td> <td>   -9.573</td> <td>   -5.372</td>\n",
       "</tr>\n",
       "<tr>\n",
       "  <th>np.log(q)</th>  <td>    0.8381</td> <td>    0.009</td> <td>   89.284</td> <td> 0.000</td> <td>    0.820</td> <td>    0.857</td>\n",
       "</tr>\n",
       "<tr>\n",
       "  <th>np.log(pl)</th> <td>    0.0443</td> <td>    0.106</td> <td>    0.418</td> <td> 0.676</td> <td>   -0.165</td> <td>    0.253</td>\n",
       "</tr>\n",
       "<tr>\n",
       "  <th>np.log(pk)</th> <td>    0.1884</td> <td>    0.087</td> <td>    2.164</td> <td> 0.032</td> <td>    0.016</td> <td>    0.360</td>\n",
       "</tr>\n",
       "<tr>\n",
       "  <th>np.log(pf)</th> <td>    0.7131</td> <td>    0.064</td> <td>   11.081</td> <td> 0.000</td> <td>    0.586</td> <td>    0.840</td>\n",
       "</tr>\n",
       "</table><br/><br/>Notes:<br/>[1] Standard Errors assume that the covariance matrix of the errors is correctly specified."
      ],
      "text/plain": [
       "<class 'statsmodels.iolib.summary.Summary'>\n",
       "\"\"\"\n",
       "                            OLS Regression Results                            \n",
       "==============================================================================\n",
       "Dep. Variable:           np.log(cost)   R-squared:                       0.982\n",
       "Model:                            OLS   Adj. R-squared:                  0.982\n",
       "No. Observations:                 158   F-statistic:                     2107.\n",
       "Covariance Type:            nonrobust   Prob (F-statistic):          1.25e-132\n",
       "==============================================================================\n",
       "                 coef    std err          t      P>|t|      [0.025      0.975]\n",
       "------------------------------------------------------------------------------\n",
       "Intercept     -7.4722      1.063     -7.028      0.000      -9.573      -5.372\n",
       "np.log(q)      0.8381      0.009     89.284      0.000       0.820       0.857\n",
       "np.log(pl)     0.0443      0.106      0.418      0.676      -0.165       0.253\n",
       "np.log(pk)     0.1884      0.087      2.164      0.032       0.016       0.360\n",
       "np.log(pf)     0.7131      0.064     11.081      0.000       0.586       0.840\n",
       "==============================================================================\n",
       "\n",
       "Notes:\n",
       "[1] Standard Errors assume that the covariance matrix of the errors is correctly specified.\n",
       "\"\"\""
      ]
     },
     "execution_count": 19,
     "metadata": {},
     "output_type": "execute_result"
    }
   ],
   "source": [
    "electricity = pd.read_csv('https://raw.githubusercontent.com/artamonoff/Econometrica/master/python-notebooks/data-csv/Electricity.csv')\n",
    "mod = smf.ols(formula='np.log(cost)~np.log(q)+np.log(pl)+np.log(pk)+np.log(pf)', data=electricity).fit()\n",
    "mod.summary(slim=True)"
   ]
  },
  {
   "cell_type": "code",
   "execution_count": 26,
   "id": "833e5802",
   "metadata": {},
   "outputs": [
    {
     "name": "stdout",
     "output_type": "stream",
     "text": [
      "<F test: F=47.8116834146199, p=7.379224042093515e-22, df_denom=153, df_num=3>\n"
     ]
    }
   ],
   "source": [
    "print( mod.f_test('np.log(pl)=np.log(pk)=np.log(pf)=0') )"
   ]
  },
  {
   "cell_type": "code",
   "execution_count": 27,
   "id": "08c5c41e",
   "metadata": {},
   "outputs": [],
   "source": [
    "#тестовая_статистика=47.812"
   ]
  },
  {
   "cell_type": "code",
   "execution_count": 28,
   "id": "f55d3b73",
   "metadata": {},
   "outputs": [
    {
     "data": {
      "text/plain": [
       "2.664"
      ]
     },
     "execution_count": 28,
     "metadata": {},
     "output_type": "execute_result"
    }
   ],
   "source": [
    "# критическое значение\n",
    "f.ppf(q=1-0.05, dfn=3, dfd=mod.df_resid).round(3)"
   ]
  },
  {
   "cell_type": "code",
   "execution_count": 29,
   "id": "9dea67b0",
   "metadata": {},
   "outputs": [],
   "source": [
    "#критич<тестового=>значима"
   ]
  },
  {
   "cell_type": "markdown",
   "id": "f2a1e7cb",
   "metadata": {},
   "source": [
    "# ЗАДАНИЕ 4"
   ]
  },
  {
   "cell_type": "code",
   "execution_count": 44,
   "id": "5bf44eb8",
   "metadata": {},
   "outputs": [],
   "source": [
    "import pandas as pd\n",
    "import numpy as np\n",
    "import statsmodels.formula.api as smf\n",
    "import statsmodels.api as sm\n",
    "from statsmodels.iolib.summary2 import summary_params # вывод результатов тестирования\n",
    "from scipy.stats import t # t-распределение"
   ]
  },
  {
   "cell_type": "code",
   "execution_count": 45,
   "id": "5e7be95c",
   "metadata": {},
   "outputs": [
    {
     "data": {
      "text/html": [
       "<table class=\"simpletable\">\n",
       "<caption>OLS Regression Results</caption>\n",
       "<tr>\n",
       "  <th>Dep. Variable:</th>    <td>np.log(output)</td> <th>  R-squared:         </th> <td>   0.888</td> \n",
       "</tr>\n",
       "<tr>\n",
       "  <th>Model:</th>                  <td>OLS</td>      <th>  Adj. R-squared:    </th> <td>   0.888</td> \n",
       "</tr>\n",
       "<tr>\n",
       "  <th>No. Observations:</th>     <td>   569</td>     <th>  F-statistic:       </th> <td>   1499.</td> \n",
       "</tr>\n",
       "<tr>\n",
       "  <th>Covariance Type:</th>     <td>nonrobust</td>   <th>  Prob (F-statistic):</th> <td>1.65e-268</td>\n",
       "</tr>\n",
       "</table>\n",
       "<table class=\"simpletable\">\n",
       "<tr>\n",
       "         <td></td>            <th>coef</th>     <th>std err</th>      <th>t</th>      <th>P>|t|</th>  <th>[0.025</th>    <th>0.975]</th>  \n",
       "</tr>\n",
       "<tr>\n",
       "  <th>Intercept</th>       <td>   -5.0073</td> <td>    0.221</td> <td>  -22.649</td> <td> 0.000</td> <td>   -5.442</td> <td>   -4.573</td>\n",
       "</tr>\n",
       "<tr>\n",
       "  <th>np.log(capital)</th> <td>    0.1493</td> <td>    0.015</td> <td>   10.141</td> <td> 0.000</td> <td>    0.120</td> <td>    0.178</td>\n",
       "</tr>\n",
       "<tr>\n",
       "  <th>np.log(labour)</th>  <td>    0.7204</td> <td>    0.019</td> <td>   37.487</td> <td> 0.000</td> <td>    0.683</td> <td>    0.758</td>\n",
       "</tr>\n",
       "<tr>\n",
       "  <th>np.log(wage)</th>    <td>    0.9214</td> <td>    0.058</td> <td>   16.001</td> <td> 0.000</td> <td>    0.808</td> <td>    1.034</td>\n",
       "</tr>\n",
       "</table><br/><br/>Notes:<br/>[1] Standard Errors assume that the covariance matrix of the errors is correctly specified."
      ],
      "text/plain": [
       "<class 'statsmodels.iolib.summary.Summary'>\n",
       "\"\"\"\n",
       "                            OLS Regression Results                            \n",
       "==============================================================================\n",
       "Dep. Variable:         np.log(output)   R-squared:                       0.888\n",
       "Model:                            OLS   Adj. R-squared:                  0.888\n",
       "No. Observations:                 569   F-statistic:                     1499.\n",
       "Covariance Type:            nonrobust   Prob (F-statistic):          1.65e-268\n",
       "===================================================================================\n",
       "                      coef    std err          t      P>|t|      [0.025      0.975]\n",
       "-----------------------------------------------------------------------------------\n",
       "Intercept          -5.0073      0.221    -22.649      0.000      -5.442      -4.573\n",
       "np.log(capital)     0.1493      0.015     10.141      0.000       0.120       0.178\n",
       "np.log(labour)      0.7204      0.019     37.487      0.000       0.683       0.758\n",
       "np.log(wage)        0.9214      0.058     16.001      0.000       0.808       1.034\n",
       "===================================================================================\n",
       "\n",
       "Notes:\n",
       "[1] Standard Errors assume that the covariance matrix of the errors is correctly specified.\n",
       "\"\"\""
      ]
     },
     "execution_count": 45,
     "metadata": {},
     "output_type": "execute_result"
    }
   ],
   "source": [
    "labour_df = pd.read_csv('https://raw.githubusercontent.com/artamonoff/Econometrica/master/python-notebooks/data-csv/Labour.csv')\n",
    "mod = smf.ols(formula='np.log(output)~np.log(capital)+np.log(labour)+np.log(wage)', data=labour_df).fit()\n",
    "mod.summary(slim=True)"
   ]
  },
  {
   "cell_type": "code",
   "execution_count": 46,
   "id": "7900fc80",
   "metadata": {},
   "outputs": [
    {
     "data": {
      "text/plain": [
       "<class 'statsmodels.stats.contrast.ContrastResults'>\n",
       "                             Test for Constraints                             \n",
       "==============================================================================\n",
       "                 coef    std err          t      P>|t|      [0.025      0.975]\n",
       "------------------------------------------------------------------------------\n",
       "c0             0.9214      0.058     -1.365      0.173       0.808       1.034\n",
       "=============================================================================="
      ]
     },
     "execution_count": 46,
     "metadata": {},
     "output_type": "execute_result"
    }
   ],
   "source": [
    "#гипотеза\n",
    "mod.t_test('np.log(wage)=1')"
   ]
  },
  {
   "cell_type": "code",
   "execution_count": 47,
   "id": "d20012b0",
   "metadata": {},
   "outputs": [],
   "source": [
    "#t=-1.365"
   ]
  },
  {
   "cell_type": "code",
   "execution_count": 49,
   "id": "512c541d",
   "metadata": {},
   "outputs": [
    {
     "data": {
      "text/plain": [
       "1.964"
      ]
     },
     "execution_count": 49,
     "metadata": {},
     "output_type": "execute_result"
    }
   ],
   "source": [
    "# 5%-критическое значение t-распределения\n",
    "t.ppf(q=1-0.05/2, df=mod.df_resid).round(3)"
   ]
  },
  {
   "cell_type": "code",
   "execution_count": 50,
   "id": "8b245003",
   "metadata": {},
   "outputs": [],
   "source": [
    "#критич>наблюд=>не_отвергается_гипотеза=>незначим"
   ]
  },
  {
   "cell_type": "markdown",
   "id": "76acf824",
   "metadata": {},
   "source": [
    "# ЗАДАНИЕ 5"
   ]
  },
  {
   "cell_type": "code",
   "execution_count": 90,
   "id": "4bef9d3f",
   "metadata": {},
   "outputs": [],
   "source": [
    "import pandas as pd\n",
    "import numpy as np\n",
    "import statsmodels.formula.api as smf\n",
    "import statsmodels.api as sm\n",
    "from statsmodels.iolib.summary2 import summary_col # вывод подгонки\n",
    "from scipy.stats import f # F-распределение"
   ]
  },
  {
   "cell_type": "code",
   "execution_count": 91,
   "id": "5f6df50d",
   "metadata": {},
   "outputs": [
    {
     "data": {
      "text/html": [
       "<table class=\"simpletable\">\n",
       "<caption>OLS Regression Results</caption>\n",
       "<tr>\n",
       "  <th>Dep. Variable:</th>    <td>np.log(output)</td> <th>  R-squared:         </th> <td>   0.888</td> \n",
       "</tr>\n",
       "<tr>\n",
       "  <th>Model:</th>                  <td>OLS</td>      <th>  Adj. R-squared:    </th> <td>   0.888</td> \n",
       "</tr>\n",
       "<tr>\n",
       "  <th>No. Observations:</th>     <td>   569</td>     <th>  F-statistic:       </th> <td>   1499.</td> \n",
       "</tr>\n",
       "<tr>\n",
       "  <th>Covariance Type:</th>     <td>nonrobust</td>   <th>  Prob (F-statistic):</th> <td>1.65e-268</td>\n",
       "</tr>\n",
       "</table>\n",
       "<table class=\"simpletable\">\n",
       "<tr>\n",
       "         <td></td>            <th>coef</th>     <th>std err</th>      <th>t</th>      <th>P>|t|</th>  <th>[0.025</th>    <th>0.975]</th>  \n",
       "</tr>\n",
       "<tr>\n",
       "  <th>Intercept</th>       <td>   -5.0073</td> <td>    0.221</td> <td>  -22.649</td> <td> 0.000</td> <td>   -5.442</td> <td>   -4.573</td>\n",
       "</tr>\n",
       "<tr>\n",
       "  <th>np.log(capital)</th> <td>    0.1493</td> <td>    0.015</td> <td>   10.141</td> <td> 0.000</td> <td>    0.120</td> <td>    0.178</td>\n",
       "</tr>\n",
       "<tr>\n",
       "  <th>np.log(labour)</th>  <td>    0.7204</td> <td>    0.019</td> <td>   37.487</td> <td> 0.000</td> <td>    0.683</td> <td>    0.758</td>\n",
       "</tr>\n",
       "<tr>\n",
       "  <th>np.log(wage)</th>    <td>    0.9214</td> <td>    0.058</td> <td>   16.001</td> <td> 0.000</td> <td>    0.808</td> <td>    1.034</td>\n",
       "</tr>\n",
       "</table><br/><br/>Notes:<br/>[1] Standard Errors assume that the covariance matrix of the errors is correctly specified."
      ],
      "text/plain": [
       "<class 'statsmodels.iolib.summary.Summary'>\n",
       "\"\"\"\n",
       "                            OLS Regression Results                            \n",
       "==============================================================================\n",
       "Dep. Variable:         np.log(output)   R-squared:                       0.888\n",
       "Model:                            OLS   Adj. R-squared:                  0.888\n",
       "No. Observations:                 569   F-statistic:                     1499.\n",
       "Covariance Type:            nonrobust   Prob (F-statistic):          1.65e-268\n",
       "===================================================================================\n",
       "                      coef    std err          t      P>|t|      [0.025      0.975]\n",
       "-----------------------------------------------------------------------------------\n",
       "Intercept          -5.0073      0.221    -22.649      0.000      -5.442      -4.573\n",
       "np.log(capital)     0.1493      0.015     10.141      0.000       0.120       0.178\n",
       "np.log(labour)      0.7204      0.019     37.487      0.000       0.683       0.758\n",
       "np.log(wage)        0.9214      0.058     16.001      0.000       0.808       1.034\n",
       "===================================================================================\n",
       "\n",
       "Notes:\n",
       "[1] Standard Errors assume that the covariance matrix of the errors is correctly specified.\n",
       "\"\"\""
      ]
     },
     "execution_count": 91,
     "metadata": {},
     "output_type": "execute_result"
    }
   ],
   "source": [
    "labour_df = pd.read_csv('https://raw.githubusercontent.com/artamonoff/Econometrica/master/python-notebooks/data-csv/Labour.csv')\n",
    "mod = smf.ols(formula='np.log(output)~np.log(capital)+np.log(labour)+np.log(wage)', data=labour_df).fit()\n",
    "mod.summary(slim=True)"
   ]
  },
  {
   "cell_type": "code",
   "execution_count": 92,
   "id": "bf988f2f",
   "metadata": {},
   "outputs": [
    {
     "name": "stdout",
     "output_type": "stream",
     "text": [
      "<F test: F=198.58693315849223, p=7.280959454662307e-39, df_denom=565, df_num=1>\n"
     ]
    }
   ],
   "source": [
    "print( mod.f_test('np.log(capital)+np.log(labour)+np.log(wage)=1') )"
   ]
  },
  {
   "cell_type": "code",
   "execution_count": 93,
   "id": "af90ab04",
   "metadata": {},
   "outputs": [
    {
     "data": {
      "text/plain": [
       "3.8579698801476354"
      ]
     },
     "execution_count": 93,
     "metadata": {},
     "output_type": "execute_result"
    }
   ],
   "source": [
    "# критическое значение\n",
    "f.ppf(q=1-0.05, dfn=1, dfd=mod.df_resid)"
   ]
  },
  {
   "cell_type": "code",
   "execution_count": 94,
   "id": "e5a2bde2",
   "metadata": {},
   "outputs": [
    {
     "name": "stdout",
     "output_type": "stream",
     "text": [
      "<F test: F=198.58693315849223, p=7.280959454662307e-39, df_denom=565, df_num=1>\n"
     ]
    }
   ],
   "source": [
    " print( mod.f_test( r_matrix=([0, 1, 1, 1], 1) ) )\n"
   ]
  },
  {
   "cell_type": "code",
   "execution_count": 95,
   "id": "2753c14d",
   "metadata": {},
   "outputs": [
    {
     "name": "stdout",
     "output_type": "stream",
     "text": [
      "<F test: F=11.08097824634239, p=0.000928978046198739, df_denom=565, df_num=1>\n"
     ]
    }
   ],
   "source": [
    "print( mod.f_test('np.log(labour)=np.log(wage)') )"
   ]
  },
  {
   "cell_type": "code",
   "execution_count": 96,
   "id": "3f24d97b",
   "metadata": {},
   "outputs": [
    {
     "data": {
      "text/plain": [
       "3.8579698801476354"
      ]
     },
     "execution_count": 96,
     "metadata": {},
     "output_type": "execute_result"
    }
   ],
   "source": [
    "# критическое значение\n",
    "f.ppf(q=1-0.05, dfn=1, dfd=mod.df_resid)"
   ]
  },
  {
   "cell_type": "markdown",
   "id": "12ad67a7",
   "metadata": {},
   "source": [
    "# ЗАДАНИЕ 5_дамми"
   ]
  },
  {
   "cell_type": "code",
   "execution_count": 76,
   "id": "629d6435",
   "metadata": {},
   "outputs": [],
   "source": [
    "import pandas as pd\n",
    "import numpy as np\n",
    "import statsmodels.formula.api as smf\n",
    "import statsmodels.api as sm\n",
    "from statsmodels.iolib.summary2 import summary_col # вывод подгонки\n",
    "from scipy.stats import f # F-распределение\n",
    "import seaborn as sns"
   ]
  },
  {
   "cell_type": "code",
   "execution_count": 86,
   "id": "3b79498a",
   "metadata": {},
   "outputs": [
    {
     "data": {
      "text/html": [
       "<table class=\"simpletable\">\n",
       "<tr>\n",
       "         <td></td>           <th>живущие</th>     <th>неживущие</th>      <th>Общая</th>   \n",
       "</tr>\n",
       "<tr>\n",
       "  <th>Intercept</th>      <td>3478.9308***</td> <td>3373.0343***</td> <td>3410.8078***</td>\n",
       "</tr>\n",
       "<tr>\n",
       "  <th></th>                <td>(111.1708)</td>   <td>(105.5365)</td>    <td>(76.7741)</td> \n",
       "</tr>\n",
       "<tr>\n",
       "  <th>totwrk</th>          <td>-0.1871***</td>   <td>-0.1603***</td>   <td>-0.1678***</td> \n",
       "</tr>\n",
       "<tr>\n",
       "  <th></th>                 <td>(0.0281)</td>     <td>(0.0239)</td>     <td>(0.0180)</td>  \n",
       "</tr>\n",
       "<tr>\n",
       "  <th>age</th>               <td>2.2962</td>       <td>3.2742*</td>     <td>2.8004**</td>  \n",
       "</tr>\n",
       "<tr>\n",
       "  <th></th>                 <td>(2.0711)</td>     <td>(1.8775)</td>     <td>(1.3889)</td>  \n",
       "</tr>\n",
       "<tr>\n",
       "  <th>south</th>            <td>167.6170*</td>    <td>87.3136*</td>    <td>118.0815***</td>\n",
       "</tr>\n",
       "<tr>\n",
       "  <th></th>                 <td>(92.9944)</td>    <td>(48.0801)</td>    <td>(40.6470)</td> \n",
       "</tr>\n",
       "<tr>\n",
       "  <th>male</th>             <td>97.3943*</td>     <td>84.6980*</td>     <td>84.3841**</td> \n",
       "</tr>\n",
       "<tr>\n",
       "  <th></th>                 <td>(53.1835)</td>    <td>(46.8894)</td>    <td>(34.9319)</td> \n",
       "</tr>\n",
       "<tr>\n",
       "  <th>marr</th>             <td>-23.7337</td>      <td>72.5759</td>      <td>36.6300</td>  \n",
       "</tr>\n",
       "<tr>\n",
       "  <th></th>                 <td>(59.3493)</td>    <td>(58.9811)</td>    <td>(41.7602)</td> \n",
       "</tr>\n",
       "<tr>\n",
       "  <th>union</th>             <td>5.2414</td>       <td>19.3829</td>      <td>15.6996</td>  \n",
       "</tr>\n",
       "<tr>\n",
       "  <th></th>                 <td>(59.3917)</td>    <td>(49.9238)</td>    <td>(38.0878)</td> \n",
       "</tr>\n",
       "<tr>\n",
       "  <th>R-squared</th>         <td>0.1483</td>       <td>0.1204</td>       <td>0.1280</td>   \n",
       "</tr>\n",
       "<tr>\n",
       "  <th>R-squared Adj.</th>    <td>0.1297</td>       <td>0.1078</td>       <td>0.1205</td>   \n",
       "</tr>\n",
       "<tr>\n",
       "  <th>N</th>                <td>282.0000</td>     <td>424.0000</td>     <td>706.0000</td>  \n",
       "</tr>\n",
       "<tr>\n",
       "  <th>F-stat</th>            <td>7.9796</td>       <td>9.5166</td>       <td>17.0998</td>  \n",
       "</tr>\n",
       "</table>"
      ],
      "text/plain": [
       "<class 'statsmodels.iolib.summary2.Summary'>\n",
       "\"\"\"\n",
       "\n",
       "=====================================================\n",
       "                 живущие     неживущие      Общая    \n",
       "-----------------------------------------------------\n",
       "Intercept      3478.9308*** 3373.0343*** 3410.8078***\n",
       "               (111.1708)   (105.5365)   (76.7741)   \n",
       "totwrk         -0.1871***   -0.1603***   -0.1678***  \n",
       "               (0.0281)     (0.0239)     (0.0180)    \n",
       "age            2.2962       3.2742*      2.8004**    \n",
       "               (2.0711)     (1.8775)     (1.3889)    \n",
       "south          167.6170*    87.3136*     118.0815*** \n",
       "               (92.9944)    (48.0801)    (40.6470)   \n",
       "male           97.3943*     84.6980*     84.3841**   \n",
       "               (53.1835)    (46.8894)    (34.9319)   \n",
       "marr           -23.7337     72.5759      36.6300     \n",
       "               (59.3493)    (58.9811)    (41.7602)   \n",
       "union          5.2414       19.3829      15.6996     \n",
       "               (59.3917)    (49.9238)    (38.0878)   \n",
       "R-squared      0.1483       0.1204       0.1280      \n",
       "R-squared Adj. 0.1297       0.1078       0.1205      \n",
       "N              282.0000     424.0000     706.0000    \n",
       "F-stat         7.9796       9.5166       17.0998     \n",
       "=====================================================\n",
       "Standard errors in parentheses.\n",
       "* p<.1, ** p<.05, ***p<.01\n",
       "\"\"\""
      ]
     },
     "execution_count": 86,
     "metadata": {},
     "output_type": "execute_result"
    }
   ],
   "source": [
    "sleep_df = pd.read_csv('https://raw.githubusercontent.com/artamonoff/Econometrica/master/python-notebooks/data-csv/sleep75.csv')\n",
    "specification = 'sleep~totwrk+age+south+male+marr+union'\n",
    "# подгонка по полному датасету\n",
    "mod_overall = smf.ols(formula=specification, data=sleep_df).fit()\n",
    "# подгонка только по живущим\n",
    "modsmsa = smf.ols(formula=specification, data=sleep_df[ sleep_df['smsa']==1 ]).fit()\n",
    "# подгонка только по неживущим\n",
    "modnsmsa = smf.ols(formula=specification, data=sleep_df[ sleep_df['smsa']==0 ]).fit()\n",
    "# Вывод трёх регрессий в одной таблице\n",
    "summary_col(results=[modsmsa, modnsmsa, mod_overall], stars=True, model_names=['живущие', 'неживущие', 'Общая'],\n",
    "           info_dict={'N': lambda x: x.nobs, 'F-stat': lambda x: x.fvalue})"
   ]
  },
  {
   "cell_type": "code",
   "execution_count": 87,
   "id": "cd891773",
   "metadata": {},
   "outputs": [
    {
     "name": "stdout",
     "output_type": "stream",
     "text": [
      "RSS (overall)= 121418130.1294571\n",
      "RSS (men_only)= 42632713.628929615\n",
      "RSS (women_only)= 77893881.34161536\n",
      "n= 706.0\n",
      "k= 6.0\n"
     ]
    }
   ],
   "source": [
    "# Ингредиенты тестовой статистики\n",
    "print('RSS (overall)=', mod_overall.ssr)\n",
    "print('RSS (men_only)=',modsmsa.ssr)\n",
    "print('RSS (women_only)=', modnsmsa.ssr)\n",
    "print('n=', mod_overall.nobs)\n",
    "print('k=', mod_overall.df_model)"
   ]
  },
  {
   "cell_type": "code",
   "execution_count": 88,
   "id": "a3ac8151",
   "metadata": {},
   "outputs": [
    {
     "data": {
      "text/plain": [
       "(0.7312462331511158, 1.725)"
      ]
     },
     "execution_count": 88,
     "metadata": {},
     "output_type": "execute_result"
    }
   ],
   "source": [
    "F = (mod_overall.ssr-modsmsa.ssr-modnsmsa.ssr)/(modsmsa.ssr+modnsmsa.ssr)*(mod_overall.nobs-2*(mod_overall.df_model+1))/(mod_overall.df_model+1)\n",
    "F_cr = f.ppf(q=1-0.1, dfn=mod_overall.df_model+1, dfd=mod_overall.nobs-2*(mod_overall.df_model+1)).round(3)\n",
    "F, F_cr"
   ]
  },
  {
   "cell_type": "code",
   "execution_count": 89,
   "id": "95d94163",
   "metadata": {},
   "outputs": [
    {
     "data": {
      "text/plain": [
       "0.731"
      ]
     },
     "execution_count": 89,
     "metadata": {},
     "output_type": "execute_result"
    }
   ],
   "source": [
    "F.round(3)"
   ]
  },
  {
   "cell_type": "code",
   "execution_count": 90,
   "id": "8029b1fd",
   "metadata": {},
   "outputs": [],
   "source": [
    "#наблюдаемая<критической=>данные согласуются с нулевой гипотезой=>структурные изменения не значимы"
   ]
  },
  {
   "cell_type": "code",
   "execution_count": null,
   "id": "19e68c5f",
   "metadata": {},
   "outputs": [],
   "source": []
  }
 ],
 "metadata": {
  "kernelspec": {
   "display_name": "Python 3 (ipykernel)",
   "language": "python",
   "name": "python3"
  },
  "language_info": {
   "codemirror_mode": {
    "name": "ipython",
    "version": 3
   },
   "file_extension": ".py",
   "mimetype": "text/x-python",
   "name": "python",
   "nbconvert_exporter": "python",
   "pygments_lexer": "ipython3",
   "version": "3.10.9"
  }
 },
 "nbformat": 4,
 "nbformat_minor": 5
}
