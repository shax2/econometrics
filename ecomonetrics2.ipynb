{
 "cells": [
  {
   "cell_type": "markdown",
   "id": "455567fb",
   "metadata": {},
   "source": [
    "# F-тест: Совместная значимость\n",
    "Тестируется гипотеза\n",
    "$$H_0:\\beta_1=\\cdots=\\beta_J=0 $$\n",
    "Тестовая статистика (неробастная) $$F=\\frac{R^2-R^2_{restr}}{1-R^2}\\cdot\\frac{n-k-1}{J}=\\frac{RSS_{restr}-RSS}{RSS}\\cdot\\frac{n-k-1}{J}$$\n",
    "$R^2_{restr}, RSS_{restr}$ – из промежуточной регрессии с ограничениями\n",
    "\n",
    "Критическое значение $$F_{cr}=F_{df1=J, df2=n-k-1}(\\alpha)$$\n",
    "\n",
    "Гипотеза отвергается если $F>F_{cr}$ или $P<\\alpha$"
   ]
  },
  {
   "cell_type": "code",
   "execution_count": 1,
   "id": "a6ff3407",
   "metadata": {},
   "outputs": [],
   "source": [
    "import pandas as pd\n",
    "import numpy as np\n",
    "import statsmodels.formula.api as smf\n",
    "import statsmodels.api as sm\n",
    "from statsmodels.iolib.summary2 import summary_col # вывод подгонки\n",
    "from scipy.stats import f # F-распределение"
   ]
  },
  {
   "cell_type": "code",
   "execution_count": 5,
   "id": "a24dc95f",
   "metadata": {},
   "outputs": [
    {
     "data": {
      "text/html": [
       "<table class=\"simpletable\">\n",
       "<tr>\n",
       "         <td></td>            <th>sleep</th>   \n",
       "</tr>\n",
       "<tr>\n",
       "  <th>Intercept</th>      <td>3446.8303***</td>\n",
       "</tr>\n",
       "<tr>\n",
       "  <th></th>                 <td>(81.8399)</td> \n",
       "</tr>\n",
       "<tr>\n",
       "  <th>totwrk</th>          <td>-0.1691***</td> \n",
       "</tr>\n",
       "<tr>\n",
       "  <th></th>                 <td>(0.0181)</td>  \n",
       "</tr>\n",
       "<tr>\n",
       "  <th>age</th>               <td>2.7145*</td>  \n",
       "</tr>\n",
       "<tr>\n",
       "  <th></th>                 <td>(1.4724)</td>  \n",
       "</tr>\n",
       "<tr>\n",
       "  <th>male</th>             <td>87.1081**</td> \n",
       "</tr>\n",
       "<tr>\n",
       "  <th></th>                 <td>(35.1732)</td> \n",
       "</tr>\n",
       "<tr>\n",
       "  <th>south</th>           <td>102.2718**</td> \n",
       "</tr>\n",
       "<tr>\n",
       "  <th></th>                 <td>(41.9250)</td> \n",
       "</tr>\n",
       "<tr>\n",
       "  <th>smsa</th>             <td>-54.1877</td>  \n",
       "</tr>\n",
       "<tr>\n",
       "  <th></th>                 <td>(33.1934)</td> \n",
       "</tr>\n",
       "<tr>\n",
       "  <th>yngkid</th>           <td>-13.0513</td>  \n",
       "</tr>\n",
       "<tr>\n",
       "  <th></th>                 <td>(50.4591)</td> \n",
       "</tr>\n",
       "<tr>\n",
       "  <th>marr</th>              <td>31.3604</td>  \n",
       "</tr>\n",
       "<tr>\n",
       "  <th></th>                 <td>(42.2632)</td> \n",
       "</tr>\n",
       "<tr>\n",
       "  <th>union</th>             <td>11.8657</td>  \n",
       "</tr>\n",
       "<tr>\n",
       "  <th></th>                 <td>(38.1859)</td> \n",
       "</tr>\n",
       "<tr>\n",
       "  <th>R-squared</th>         <td>0.1314</td>   \n",
       "</tr>\n",
       "<tr>\n",
       "  <th>R-squared Adj.</th>    <td>0.1214</td>   \n",
       "</tr>\n",
       "</table>"
      ],
      "text/plain": [
       "<class 'statsmodels.iolib.summary2.Summary'>\n",
       "\"\"\"\n",
       "\n",
       "===========================\n",
       "                  sleep    \n",
       "---------------------------\n",
       "Intercept      3446.8303***\n",
       "               (81.8399)   \n",
       "totwrk         -0.1691***  \n",
       "               (0.0181)    \n",
       "age            2.7145*     \n",
       "               (1.4724)    \n",
       "male           87.1081**   \n",
       "               (35.1732)   \n",
       "south          102.2718**  \n",
       "               (41.9250)   \n",
       "smsa           -54.1877    \n",
       "               (33.1934)   \n",
       "yngkid         -13.0513    \n",
       "               (50.4591)   \n",
       "marr           31.3604     \n",
       "               (42.2632)   \n",
       "union          11.8657     \n",
       "               (38.1859)   \n",
       "R-squared      0.1314      \n",
       "R-squared Adj. 0.1214      \n",
       "===========================\n",
       "Standard errors in\n",
       "parentheses.\n",
       "* p<.1, ** p<.05, ***p<.01\n",
       "\"\"\""
      ]
     },
     "execution_count": 5,
     "metadata": {},
     "output_type": "execute_result"
    }
   ],
   "source": [
    "sleep_df = pd.read_csv('https://raw.githubusercontent.com/artamonoff/Econometrica/master/python-notebooks/data-csv/sleep75.csv')\n",
    "mod1 = smf.ols(formula='sleep~totwrk+age+male+south+smsa+yngkid+marr+union', data=sleep_df).fit()\n",
    "summary_col(mod1, stars=True)"
   ]
  },
  {
   "cell_type": "markdown",
   "id": "242b01fa",
   "metadata": {},
   "source": [
    "Потестируем совместную значимость `smsa, yngkid, marr, union`, т.е. гипотезу\n",
    "$$H_0:\\beta_{smsa}=\\beta_{yngkid}=\\beta_{marr}=\\beta_{union}=0$$\n",
    "Критическое значений: df1=4, df2=n-k-1"
   ]
  },
  {
   "cell_type": "code",
   "execution_count": 6,
   "id": "1fc089e4",
   "metadata": {},
   "outputs": [
    {
     "data": {
      "text/plain": [
       "2.3847110483450447"
      ]
     },
     "execution_count": 6,
     "metadata": {},
     "output_type": "execute_result"
    }
   ],
   "source": [
    "f.ppf(q=1-0.05, dfn=4, dfd=mod1.df_resid)"
   ]
  },
  {
   "cell_type": "markdown",
   "id": "d550d530",
   "metadata": {},
   "source": [
    "### Первый способ: через спецификацию гипотезы"
   ]
  },
  {
   "cell_type": "code",
   "execution_count": 7,
   "id": "0328e83e",
   "metadata": {},
   "outputs": [
    {
     "name": "stdout",
     "output_type": "stream",
     "text": [
      "<F test: F=0.9097649568071344, p=0.4576805992248939, df_denom=697, df_num=4>\n"
     ]
    }
   ],
   "source": [
    "print( mod1.f_test('smsa=yngkid=marr=union=0') )"
   ]
  },
  {
   "cell_type": "code",
   "execution_count": 9,
   "id": "3f2cd1a5",
   "metadata": {},
   "outputs": [
    {
     "name": "stdout",
     "output_type": "stream",
     "text": [
      "<F test: F=array([[0.90976496]]), p=0.4576805992248939, df_denom=697, df_num=4>\n"
     ]
    }
   ],
   "source": [
    "print( mod1.wald_test('smsa=yngkid=marr=union=0', use_f=True) )"
   ]
  },
  {
   "cell_type": "markdown",
   "id": "9ec68f6d",
   "metadata": {},
   "source": [
    "### Второй способ: через вспомогательную регрессию с ограничениями"
   ]
  },
  {
   "cell_type": "code",
   "execution_count": 10,
   "id": "d072bc1a",
   "metadata": {},
   "outputs": [
    {
     "data": {
      "text/plain": [
       "(0.9097649568071163, 0.4576805992248939, 4.0)"
      ]
     },
     "execution_count": 10,
     "metadata": {},
     "output_type": "execute_result"
    }
   ],
   "source": [
    "mod1_restr = smf.ols(formula='sleep~totwrk+age+male+south', data=sleep_df).fit()\n",
    "mod1.compare_f_test(mod1_restr)"
   ]
  },
  {
   "cell_type": "markdown",
   "id": "927e9753",
   "metadata": {},
   "source": [
    "# F-тест: Значимость регрессии\n",
    "\n",
    "Тестируется гипотеза\n",
    "$$H_0:\\beta_1=\\cdots=\\beta_k=0 $$\n",
    "Тестовая статистика (неробастная) $$F=\\frac{R^2}{1-R^2}\\cdot\\frac{n-k-1}{k}$$\n",
    "Критическое значение $$F_{cr}=F_{df1=k, df2=n-k-1}(\\alpha)$$\n",
    "\n",
    "Гипотеза отвергается если $F>F_{cr}$ или $P<\\alpha$"
   ]
  },
  {
   "cell_type": "code",
   "execution_count": 11,
   "id": "2e748336",
   "metadata": {},
   "outputs": [],
   "source": [
    "import pandas as pd\n",
    "import numpy as np\n",
    "import statsmodels.formula.api as smf\n",
    "import statsmodels.api as sm\n",
    "from statsmodels.iolib.summary2 import summary_params # вывод результатов тестирования\n",
    "from scipy.stats import f # F-распределение"
   ]
  },
  {
   "cell_type": "markdown",
   "id": "95d44cb6",
   "metadata": {},
   "source": [
    "## Sleep equation 1\n",
    "Для датасета `sleep75` рассмотрим регрессию **sleep на totwrk, age, age^2, south, male, smsa, yngkid, marr, union**\n",
    "Подгонка модели"
   ]
  },
  {
   "cell_type": "code",
   "execution_count": 12,
   "id": "f234e534",
   "metadata": {},
   "outputs": [],
   "source": [
    "# загрузим данные\n",
    "sleep_df = pd.read_csv('https://raw.githubusercontent.com/artamonoff/Econometrica/master/python-notebooks/data-csv/sleep75.csv')\n",
    "# подгоним модель\n",
    "mod1 = smf.ols(formula='sleep~totwrk+age+I(age**2)+south+male+smsa+yngkid+marr+union', data=sleep_df).fit()"
   ]
  },
  {
   "cell_type": "markdown",
   "id": "b2374b65",
   "metadata": {},
   "source": [
    "Результаты F-теста на значимость регрессии (тестовая статистика и P-значение)"
   ]
  },
  {
   "cell_type": "code",
   "execution_count": 13,
   "id": "1d9c6e5c",
   "metadata": {},
   "outputs": [
    {
     "data": {
      "text/plain": [
       "(11.803442151355272, 2.1244300478607532e-17)"
      ]
     },
     "execution_count": 13,
     "metadata": {},
     "output_type": "execute_result"
    }
   ],
   "source": [
    "mod1.fvalue, mod1.f_pvalue"
   ]
  },
  {
   "cell_type": "markdown",
   "id": "f17f0239",
   "metadata": {},
   "source": [
    "5%-критическое значение F-распределения"
   ]
  },
  {
   "cell_type": "code",
   "execution_count": 14,
   "id": "10481605",
   "metadata": {},
   "outputs": [
    {
     "data": {
      "text/plain": [
       "1.8933165104204854"
      ]
     },
     "execution_count": 14,
     "metadata": {},
     "output_type": "execute_result"
    }
   ],
   "source": [
    "f.ppf(q=1-0.05, dfn=mod1.df_model, dfd=mod1.df_resid)"
   ]
  },
  {
   "cell_type": "markdown",
   "id": "5d0fd38a",
   "metadata": {},
   "source": [
    "*Вывод*: регрессия значима!"
   ]
  },
  {
   "cell_type": "markdown",
   "id": "14d082b5",
   "metadata": {},
   "source": [
    "# F-тест: Линейные ограничения\n",
    "Тестируется гипотеза о линейных ограничения на коэффициенты (в матричной форме)\n",
    "$$H_0: R\\beta=q$$\n",
    "Тестовая статистика (неробастная) $$F=\\frac{1}{J}(R\\hat{\\beta}-q)^\\top(R\\hat{V}R^\\top)^{-1} (R\\hat{\\beta}-q)\\quad \\hat{V}=s^2(X^\\top X)^{-1}$$\n",
    "\n",
    "\n",
    "Критическое значения ($J$ – число независимых ограничений) $$F_{cr}=F_{df1=J, df2=n-k-1}(\\alpha)$$\n",
    "\n",
    "Гипотеза отвергается если $F>F_{cr}$ или $P<\\alpha$"
   ]
  },
  {
   "cell_type": "code",
   "execution_count": 16,
   "id": "2092e480",
   "metadata": {},
   "outputs": [],
   "source": [
    "import pandas as pd\n",
    "import numpy as np\n",
    "import statsmodels.formula.api as smf\n",
    "import statsmodels.api as sm\n",
    "from statsmodels.iolib.summary2 import summary_col # вывод подгонки\n",
    "from scipy.stats import f # F-распределение"
   ]
  },
  {
   "cell_type": "markdown",
   "id": "5374ec0f",
   "metadata": {},
   "source": [
    "## Output equation\n",
    "Для набора данных `Labour` рассмотрим линейную регрессию **log(output) на log(capital), log(labour), log(wage)**\n",
    "\n",
    "Вектор коэффициентов для этой модели $$\\beta=\\begin{pmatrix} const & \\beta_{capital} & \\beta_{labour} & \\beta_{wage} \\end{pmatrix}^\\top$$\n",
    "\n",
    "Результаты подгонки"
   ]
  },
  {
   "cell_type": "code",
   "execution_count": 17,
   "id": "7b29a3fd",
   "metadata": {},
   "outputs": [
    {
     "data": {
      "text/html": [
       "<table class=\"simpletable\">\n",
       "<caption>OLS Regression Results</caption>\n",
       "<tr>\n",
       "  <th>Dep. Variable:</th>    <td>np.log(output)</td> <th>  R-squared:         </th> <td>   0.888</td> \n",
       "</tr>\n",
       "<tr>\n",
       "  <th>Model:</th>                  <td>OLS</td>      <th>  Adj. R-squared:    </th> <td>   0.888</td> \n",
       "</tr>\n",
       "<tr>\n",
       "  <th>No. Observations:</th>     <td>   569</td>     <th>  F-statistic:       </th> <td>   1499.</td> \n",
       "</tr>\n",
       "<tr>\n",
       "  <th>Covariance Type:</th>     <td>nonrobust</td>   <th>  Prob (F-statistic):</th> <td>1.65e-268</td>\n",
       "</tr>\n",
       "</table>\n",
       "<table class=\"simpletable\">\n",
       "<tr>\n",
       "         <td></td>            <th>coef</th>     <th>std err</th>      <th>t</th>      <th>P>|t|</th>  <th>[0.025</th>    <th>0.975]</th>  \n",
       "</tr>\n",
       "<tr>\n",
       "  <th>Intercept</th>       <td>   -5.0073</td> <td>    0.221</td> <td>  -22.649</td> <td> 0.000</td> <td>   -5.442</td> <td>   -4.573</td>\n",
       "</tr>\n",
       "<tr>\n",
       "  <th>np.log(capital)</th> <td>    0.1493</td> <td>    0.015</td> <td>   10.141</td> <td> 0.000</td> <td>    0.120</td> <td>    0.178</td>\n",
       "</tr>\n",
       "<tr>\n",
       "  <th>np.log(labour)</th>  <td>    0.7204</td> <td>    0.019</td> <td>   37.487</td> <td> 0.000</td> <td>    0.683</td> <td>    0.758</td>\n",
       "</tr>\n",
       "<tr>\n",
       "  <th>np.log(wage)</th>    <td>    0.9214</td> <td>    0.058</td> <td>   16.001</td> <td> 0.000</td> <td>    0.808</td> <td>    1.034</td>\n",
       "</tr>\n",
       "</table><br/><br/>Notes:<br/>[1] Standard Errors assume that the covariance matrix of the errors is correctly specified."
      ],
      "text/plain": [
       "<class 'statsmodels.iolib.summary.Summary'>\n",
       "\"\"\"\n",
       "                            OLS Regression Results                            \n",
       "==============================================================================\n",
       "Dep. Variable:         np.log(output)   R-squared:                       0.888\n",
       "Model:                            OLS   Adj. R-squared:                  0.888\n",
       "No. Observations:                 569   F-statistic:                     1499.\n",
       "Covariance Type:            nonrobust   Prob (F-statistic):          1.65e-268\n",
       "===================================================================================\n",
       "                      coef    std err          t      P>|t|      [0.025      0.975]\n",
       "-----------------------------------------------------------------------------------\n",
       "Intercept          -5.0073      0.221    -22.649      0.000      -5.442      -4.573\n",
       "np.log(capital)     0.1493      0.015     10.141      0.000       0.120       0.178\n",
       "np.log(labour)      0.7204      0.019     37.487      0.000       0.683       0.758\n",
       "np.log(wage)        0.9214      0.058     16.001      0.000       0.808       1.034\n",
       "===================================================================================\n",
       "\n",
       "Notes:\n",
       "[1] Standard Errors assume that the covariance matrix of the errors is correctly specified.\n",
       "\"\"\""
      ]
     },
     "execution_count": 17,
     "metadata": {},
     "output_type": "execute_result"
    }
   ],
   "source": [
    "labour_df = pd.read_csv('https://raw.githubusercontent.com/artamonoff/Econometrica/master/python-notebooks/data-csv/Labour.csv')\n",
    "mod = smf.ols(formula='np.log(output)~np.log(capital)+np.log(labour)+np.log(wage)', data=labour_df).fit()\n",
    "mod.summary(slim=True)"
   ]
  },
  {
   "cell_type": "markdown",
   "id": "29a718fe",
   "metadata": {},
   "source": [
    "### Гипотеза 1\n",
    "Тестируем $H_0:\\beta_{capital}+\\beta_{labour}+\\beta_{wage}=1$"
   ]
  },
  {
   "cell_type": "code",
   "execution_count": 18,
   "id": "34b72f7a",
   "metadata": {},
   "outputs": [
    {
     "name": "stdout",
     "output_type": "stream",
     "text": [
      "<F test: F=198.58693315849249, p=7.280959454661686e-39, df_denom=565, df_num=1>\n"
     ]
    }
   ],
   "source": [
    "print( mod.f_test('np.log(capital)+np.log(labour)+np.log(wage)=1') )"
   ]
  },
  {
   "cell_type": "code",
   "execution_count": 19,
   "id": "c2516cf8",
   "metadata": {},
   "outputs": [
    {
     "data": {
      "text/plain": [
       "3.8579698801476354"
      ]
     },
     "execution_count": 19,
     "metadata": {},
     "output_type": "execute_result"
    }
   ],
   "source": [
    "# критическое значение\n",
    "f.ppf(q=1-0.05, dfn=1, dfd=mod.df_resid)"
   ]
  },
  {
   "cell_type": "markdown",
   "id": "362fdbbd",
   "metadata": {},
   "source": [
    "*Техничекие подробности*: Запишем ограничение в матричном виде $R\\beta=q$ как систему линейных уравнений. Имеем\n",
    "\\begin{align}\n",
    "    R&=\\begin{pmatrix} 0 & 1 & 1& 1 \\end{pmatrix}&  q&=1\n",
    "\\end{align}"
   ]
  },
  {
   "cell_type": "code",
   "execution_count": 20,
   "id": "1f706482",
   "metadata": {},
   "outputs": [
    {
     "name": "stdout",
     "output_type": "stream",
     "text": [
      "<F test: F=198.58693315849249, p=7.280959454661686e-39, df_denom=565, df_num=1>\n"
     ]
    }
   ],
   "source": [
    " print( mod.f_test( r_matrix=([0, 1, 1, 1], 1) ) )"
   ]
  },
  {
   "cell_type": "markdown",
   "id": "261df52b",
   "metadata": {},
   "source": [
    "### Гипотеза 2\n",
    "Тестируем $H_0:\\beta_{labour}=\\beta_{wage}$ \n",
    "\n",
    "Альтернативная запись $H_0:\\beta_{labour}-\\beta_{wage}=0$"
   ]
  },
  {
   "cell_type": "code",
   "execution_count": 21,
   "id": "eb5b14af",
   "metadata": {},
   "outputs": [
    {
     "name": "stdout",
     "output_type": "stream",
     "text": [
      "<F test: F=11.08097824634225, p=0.0009289780461988149, df_denom=565, df_num=1>\n"
     ]
    }
   ],
   "source": [
    "print( mod.f_test('np.log(labour)=np.log(wage)') )"
   ]
  },
  {
   "cell_type": "code",
   "execution_count": 22,
   "id": "31e5d6dd",
   "metadata": {},
   "outputs": [
    {
     "data": {
      "text/plain": [
       "3.8579698801476354"
      ]
     },
     "execution_count": 22,
     "metadata": {},
     "output_type": "execute_result"
    }
   ],
   "source": [
    "# критическое значение\n",
    "f.ppf(q=1-0.05, dfn=1, dfd=mod.df_resid)"
   ]
  },
  {
   "cell_type": "markdown",
   "id": "e593ffcb",
   "metadata": {},
   "source": [
    "*Техничекие подробности*: Запишем ограничение в матричном виде $R\\beta=q$ как систему линейных уравнений. Имеем\n",
    "\\begin{align}\n",
    "    R&=\\begin{pmatrix} 0 & 0 & 1 & -1 \\end{pmatrix}&  q&=0\n",
    "\\end{align}"
   ]
  },
  {
   "cell_type": "code",
   "execution_count": 24,
   "id": "253eaec2",
   "metadata": {},
   "outputs": [
    {
     "name": "stdout",
     "output_type": "stream",
     "text": [
      "<F test: F=11.08097824634225, p=0.0009289780461988149, df_denom=565, df_num=1>\n"
     ]
    }
   ],
   "source": [
    " print( mod.f_test( r_matrix=([0, 0, 1, -1], 0) ) )"
   ]
  },
  {
   "cell_type": "markdown",
   "id": "f3095539",
   "metadata": {},
   "source": [
    "# F-тест: Структурные изменения"
   ]
  },
  {
   "cell_type": "code",
   "execution_count": 25,
   "id": "6fcb9cfa",
   "metadata": {},
   "outputs": [],
   "source": [
    "import pandas as pd\n",
    "import numpy as np\n",
    "import statsmodels.formula.api as smf\n",
    "import statsmodels.api as sm\n",
    "from statsmodels.iolib.summary2 import summary_col # вывод подгонки\n",
    "from scipy.stats import f # F-распределение\n",
    "import seaborn as sns"
   ]
  },
  {
   "cell_type": "markdown",
   "id": "13d9f8fe",
   "metadata": {},
   "source": [
    "## Sleep equation\n",
    "Рассмотрим регрессию **sleep/60 на totwrk, age, age^2, south, smsa, marr**\n",
    "\n",
    "* для М $sleep/60=\\beta_0+\\beta_1totwrk+\\beta_2age+\\beta_3age^2+\\beta_4south+\\beta_5smsa+\\beta_6marr+u$\n",
    "* для Ж $sleep/60=\\gamma_0+\\gamma_1totwrk+\\gamma_2age+\\gamma_3age^2+\\gamma_4south+\\gamma_5smsa+\\gamma_6marr+v$\n",
    "\n",
    "Будем тестировать $H_0:\\beta_j=\\gamma_j$ (всего $k+1$ ограничение)\n",
    "\n",
    "Уровень значимости $\\alpha=0.01$\n",
    "\n",
    "Для тестовой статистики подговим модель\n",
    "* только по М\n",
    "* только по Ж\n",
    "* по полному датасету\n",
    "\n",
    "Результаты подгонки"
   ]
  },
  {
   "cell_type": "code",
   "execution_count": 26,
   "id": "4da7dbf2",
   "metadata": {},
   "outputs": [
    {
     "data": {
      "text/html": [
       "<table class=\"simpletable\">\n",
       "<tr>\n",
       "         <td></td>            <th>муж</th>        <th>жен</th>       <th>Общая</th>  \n",
       "</tr>\n",
       "<tr>\n",
       "  <th>Intercept</th>      <td>58.6338***</td> <td>65.5581***</td> <td>60.4212***</td>\n",
       "</tr>\n",
       "<tr>\n",
       "  <th></th>                <td>(4.8114)</td>   <td>(5.8327)</td>   <td>(3.6715)</td> \n",
       "</tr>\n",
       "<tr>\n",
       "  <th>totwrk</th>         <td>-0.0031***</td> <td>-0.0023***</td> <td>-0.0025***</td>\n",
       "</tr>\n",
       "<tr>\n",
       "  <th></th>                <td>(0.0004)</td>   <td>(0.0005)</td>   <td>(0.0003)</td> \n",
       "</tr>\n",
       "<tr>\n",
       "  <th>age</th>              <td>0.1221</td>     <td>-0.4440</td>    <td>-0.1229</td> \n",
       "</tr>\n",
       "<tr>\n",
       "  <th></th>                <td>(0.2366)</td>   <td>(0.3061)</td>   <td>(0.1875)</td> \n",
       "</tr>\n",
       "<tr>\n",
       "  <th>I(age ** 2)</th>      <td>-0.0008</td>    <td>0.0057</td>     <td>0.0021</td>  \n",
       "</tr>\n",
       "<tr>\n",
       "  <th></th>                <td>(0.0028)</td>   <td>(0.0037)</td>   <td>(0.0022)</td> \n",
       "</tr>\n",
       "<tr>\n",
       "  <th>south</th>            <td>1.0267</td>    <td>2.1532**</td>   <td>1.5738**</td> \n",
       "</tr>\n",
       "<tr>\n",
       "  <th></th>                <td>(0.9330)</td>   <td>(1.0648)</td>   <td>(0.6985)</td> \n",
       "</tr>\n",
       "<tr>\n",
       "  <th>smsa</th>            <td>-1.2918*</td>    <td>-0.5610</td>    <td>-0.8667</td> \n",
       "</tr>\n",
       "<tr>\n",
       "  <th></th>                <td>(0.7192)</td>   <td>(0.8677)</td>   <td>(0.5534)</td> \n",
       "</tr>\n",
       "<tr>\n",
       "  <th>marr</th>             <td>0.1365</td>     <td>1.0552</td>     <td>0.8740</td>  \n",
       "</tr>\n",
       "<tr>\n",
       "  <th></th>                <td>(1.0288)</td>   <td>(0.9871)</td>   <td>(0.6898)</td> \n",
       "</tr>\n",
       "<tr>\n",
       "  <th>R-squared</th>        <td>0.1607</td>     <td>0.1088</td>     <td>0.1246</td>  \n",
       "</tr>\n",
       "<tr>\n",
       "  <th>R-squared Adj.</th>   <td>0.1479</td>     <td>0.0909</td>     <td>0.1171</td>  \n",
       "</tr>\n",
       "<tr>\n",
       "  <th>N</th>               <td>400.0000</td>   <td>306.0000</td>   <td>706.0000</td> \n",
       "</tr>\n",
       "<tr>\n",
       "  <th>F-stat</th>           <td>12.5384</td>    <td>6.0817</td>     <td>16.5769</td> \n",
       "</tr>\n",
       "</table>"
      ],
      "text/plain": [
       "<class 'statsmodels.iolib.summary2.Summary'>\n",
       "\"\"\"\n",
       "\n",
       "===============================================\n",
       "                  муж        жен       Общая   \n",
       "-----------------------------------------------\n",
       "Intercept      58.6338*** 65.5581*** 60.4212***\n",
       "               (4.8114)   (5.8327)   (3.6715)  \n",
       "totwrk         -0.0031*** -0.0023*** -0.0025***\n",
       "               (0.0004)   (0.0005)   (0.0003)  \n",
       "age            0.1221     -0.4440    -0.1229   \n",
       "               (0.2366)   (0.3061)   (0.1875)  \n",
       "I(age ** 2)    -0.0008    0.0057     0.0021    \n",
       "               (0.0028)   (0.0037)   (0.0022)  \n",
       "south          1.0267     2.1532**   1.5738**  \n",
       "               (0.9330)   (1.0648)   (0.6985)  \n",
       "smsa           -1.2918*   -0.5610    -0.8667   \n",
       "               (0.7192)   (0.8677)   (0.5534)  \n",
       "marr           0.1365     1.0552     0.8740    \n",
       "               (1.0288)   (0.9871)   (0.6898)  \n",
       "R-squared      0.1607     0.1088     0.1246    \n",
       "R-squared Adj. 0.1479     0.0909     0.1171    \n",
       "N              400.0000   306.0000   706.0000  \n",
       "F-stat         12.5384    6.0817     16.5769   \n",
       "===============================================\n",
       "Standard errors in parentheses.\n",
       "* p<.1, ** p<.05, ***p<.01\n",
       "\"\"\""
      ]
     },
     "execution_count": 26,
     "metadata": {},
     "output_type": "execute_result"
    }
   ],
   "source": [
    "sleep_df = pd.read_csv('https://raw.githubusercontent.com/artamonoff/Econometrica/master/python-notebooks/data-csv/sleep75.csv')\n",
    "specification = 'I(sleep/60)~totwrk+age+I(age**2)+south+smsa+marr'\n",
    "# подгонка по полному датасету\n",
    "mod_overall = smf.ols(formula=specification, data=sleep_df).fit()\n",
    "# подгонка только по М\n",
    "mod_men_only = smf.ols(formula=specification, data=sleep_df[ sleep_df['male']==1 ]).fit()\n",
    "# подгонка только по Ж\n",
    "mod_women_only = smf.ols(formula=specification, data=sleep_df[ sleep_df['male']==0 ]).fit()\n",
    "# Вывод трёх регрессий в одной таблице\n",
    "summary_col(results=[mod_men_only, mod_women_only, mod_overall], stars=True, model_names=['муж', 'жен', 'Общая'],\n",
    "           info_dict={'N': lambda x: x.nobs, 'F-stat': lambda x: x.fvalue})"
   ]
  },
  {
   "cell_type": "code",
   "execution_count": 27,
   "id": "2609ec16",
   "metadata": {},
   "outputs": [
    {
     "name": "stdout",
     "output_type": "stream",
     "text": [
      "RSS (overall)= 33859.796879006404\n",
      "RSS (men_only)= 17618.97919500131\n",
      "RSS (women_only)= 15717.914859424825\n",
      "n= 706.0\n",
      "k= 6.0\n"
     ]
    }
   ],
   "source": [
    "# Ингредиенты тестовой статистики\n",
    "print('RSS (overall)=', mod_overall.ssr)\n",
    "print('RSS (men_only)=', mod_men_only.ssr)\n",
    "print('RSS (women_only)=', mod_women_only.ssr)\n",
    "print('n=', mod_overall.nobs)\n",
    "print('k=', mod_overall.df_model)"
   ]
  },
  {
   "cell_type": "markdown",
   "id": "f5b2fda1",
   "metadata": {},
   "source": [
    "Тестовая статистика $$F=\\frac{RSS_{overall}-RSS_{men}-RSS_{women}}{RSS_{men}+RSS_{women}}*\\frac{n-2(k+1)}{k+1}$$\n",
    "Критическое значение $$F_{cr}=F_{df1=k+1, df2=n-2(k+1)}(\\alpha)$$"
   ]
  },
  {
   "cell_type": "code",
   "execution_count": 28,
   "id": "6c423bfe",
   "metadata": {},
   "outputs": [
    {
     "data": {
      "text/plain": [
       "(1.5506147376999553, 2.6651528022423494)"
      ]
     },
     "execution_count": 28,
     "metadata": {},
     "output_type": "execute_result"
    }
   ],
   "source": [
    "F = (mod_overall.ssr-mod_men_only.ssr-mod_women_only.ssr)/(mod_men_only.ssr+mod_women_only.ssr)*(mod_overall.nobs-2*(mod_overall.df_model+1))/(mod_overall.df_model+1)\n",
    "F_cr = f.ppf(q=1-0.01, dfn=mod_overall.df_model+1, dfd=mod_overall.nobs-2*(mod_overall.df_model+1))\n",
    "F, F_cr"
   ]
  },
  {
   "cell_type": "markdown",
   "id": "c05a3c71",
   "metadata": {},
   "source": [
    "# t-тест в Python"
   ]
  },
  {
   "cell_type": "code",
   "execution_count": 29,
   "id": "e1544b23",
   "metadata": {},
   "outputs": [],
   "source": [
    "import pandas as pd\n",
    "import numpy as np\n",
    "import statsmodels.formula.api as smf\n",
    "import statsmodels.api as sm\n",
    "from statsmodels.iolib.summary2 import summary_params # вывод результатов тестирования\n",
    "from scipy.stats import t # t-распределение"
   ]
  },
  {
   "cell_type": "markdown",
   "id": "fff4dd49",
   "metadata": {},
   "source": [
    "## Значимость коэффициентов\n",
    "Тестируем гипотезу $H_0:\\beta=0$\n",
    "\n",
    "Тестовая статистика $$t=\\frac{\\hat{\\beta}}{s.e.(\\beta)}$$\n",
    "\n",
    "Критическое $t_{cr}=t_{df=n-k-1}(\\alpha)$"
   ]
  },
  {
   "cell_type": "markdown",
   "id": "f9b07124",
   "metadata": {},
   "source": [
    "Для набора данных `sleep75` рассмотрим линейную регрессию\n",
    "**sleep на totwrk, age, south, male, smsa, yngkid, marr, union, log(hrwage)**"
   ]
  },
  {
   "cell_type": "code",
   "execution_count": 30,
   "id": "25eb9430",
   "metadata": {},
   "outputs": [
    {
     "data": {
      "text/plain": [
       "Intercept         3431.804\n",
       "totwrk              -0.158\n",
       "age                  2.437\n",
       "south               78.046\n",
       "male                36.485\n",
       "smsa               -34.965\n",
       "yngkid              50.136\n",
       "marr                54.072\n",
       "union               27.019\n",
       "np.log(hrwage)      -2.727\n",
       "dtype: float64"
      ]
     },
     "execution_count": 30,
     "metadata": {},
     "output_type": "execute_result"
    }
   ],
   "source": [
    "# Загрузим данные\n",
    "df_sleep = pd.read_csv('sleep75.csv')\n",
    "mod1 = smf.ols(formula='sleep~totwrk+age+south+male+smsa+yngkid+marr+union+np.log(hrwage)', \n",
    "                       data=df_sleep).fit()\n",
    "# коэффициенты\n",
    "mod1.params.round(3)"
   ]
  },
  {
   "cell_type": "code",
   "execution_count": 31,
   "id": "408872d8",
   "metadata": {},
   "outputs": [
    {
     "data": {
      "text/plain": [
       "(532.0, 9.0, 522.0)"
      ]
     },
     "execution_count": 31,
     "metadata": {},
     "output_type": "execute_result"
    }
   ],
   "source": [
    "# Число наблюдений в модели, число регрессоров и степени свободы для t_cr\n",
    "mod1.nobs, mod1.df_model, mod1.df_resid"
   ]
  },
  {
   "cell_type": "code",
   "execution_count": 32,
   "id": "0fa5acd6",
   "metadata": {},
   "outputs": [
    {
     "data": {
      "text/plain": [
       "1.9645189418326978"
      ]
     },
     "execution_count": 32,
     "metadata": {},
     "output_type": "execute_result"
    }
   ],
   "source": [
    "# 5%-критическое значение t-распределения\n",
    "t.ppf(q=1-0.05/2, df=mod1.df_resid)"
   ]
  },
  {
   "cell_type": "markdown",
   "id": "425038d6",
   "metadata": {},
   "source": [
    "### Значимость выбранных коэффициентов\n",
    "Потестируем значимость $\\beta_{totwrk}$ и $\\beta_{male}$"
   ]
  },
  {
   "cell_type": "code",
   "execution_count": 33,
   "id": "dceb117e",
   "metadata": {},
   "outputs": [
    {
     "data": {
      "text/plain": [
       "<class 'statsmodels.stats.contrast.ContrastResults'>\n",
       "                             Test for Constraints                             \n",
       "==============================================================================\n",
       "                 coef    std err          t      P>|t|      [0.025      0.975]\n",
       "------------------------------------------------------------------------------\n",
       "c0            -0.1581      0.021     -7.576      0.000      -0.199      -0.117\n",
       "c1            36.4854     43.350      0.842      0.400     -48.677     121.648\n",
       "=============================================================================="
      ]
     },
     "execution_count": 33,
     "metadata": {},
     "output_type": "execute_result"
    }
   ],
   "source": [
    "mod1.t_test('totwrk=0, male=0')"
   ]
  },
  {
   "cell_type": "markdown",
   "id": "d15196b6",
   "metadata": {},
   "source": [
    "## Общий t-тест\n",
    "Тестируем $H_0:\\beta=\\theta$ ($\\theta$ - заданное число)\n",
    "\n",
    "Тестовая статистика $$t=\\frac{\\hat{\\beta}-\\theta}{s.e.(\\beta)}$$\n",
    "\n",
    "Для набора данных `Labour` рассмотрим регрессию **log(output) на log(capital) и log(labour)**\n"
   ]
  },
  {
   "cell_type": "code",
   "execution_count": 34,
   "id": "704e5e2b",
   "metadata": {},
   "outputs": [
    {
     "data": {
      "text/html": [
       "<div>\n",
       "<style scoped>\n",
       "    .dataframe tbody tr th:only-of-type {\n",
       "        vertical-align: middle;\n",
       "    }\n",
       "\n",
       "    .dataframe tbody tr th {\n",
       "        vertical-align: top;\n",
       "    }\n",
       "\n",
       "    .dataframe thead th {\n",
       "        text-align: right;\n",
       "    }\n",
       "</style>\n",
       "<table border=\"1\" class=\"dataframe\">\n",
       "  <thead>\n",
       "    <tr style=\"text-align: right;\">\n",
       "      <th></th>\n",
       "      <th>Coef.</th>\n",
       "      <th>Std.Err.</th>\n",
       "      <th>t</th>\n",
       "      <th>P&gt;|t|</th>\n",
       "      <th>[0.025</th>\n",
       "      <th>0.975]</th>\n",
       "    </tr>\n",
       "  </thead>\n",
       "  <tbody>\n",
       "    <tr>\n",
       "      <th>Intercept</th>\n",
       "      <td>-1.711459</td>\n",
       "      <td>0.096711</td>\n",
       "      <td>-17.696720</td>\n",
       "      <td>4.187931e-56</td>\n",
       "      <td>-1.901415</td>\n",
       "      <td>-1.521504</td>\n",
       "    </tr>\n",
       "    <tr>\n",
       "      <th>np.log(capital)</th>\n",
       "      <td>0.207570</td>\n",
       "      <td>0.017188</td>\n",
       "      <td>12.076774</td>\n",
       "      <td>4.875689e-30</td>\n",
       "      <td>0.173811</td>\n",
       "      <td>0.241329</td>\n",
       "    </tr>\n",
       "    <tr>\n",
       "      <th>np.log(labour)</th>\n",
       "      <td>0.714847</td>\n",
       "      <td>0.023142</td>\n",
       "      <td>30.890017</td>\n",
       "      <td>1.569331e-123</td>\n",
       "      <td>0.669393</td>\n",
       "      <td>0.760301</td>\n",
       "    </tr>\n",
       "  </tbody>\n",
       "</table>\n",
       "</div>"
      ],
      "text/plain": [
       "                    Coef.  Std.Err.          t          P>|t|    [0.025  \\\n",
       "Intercept       -1.711459  0.096711 -17.696720   4.187931e-56 -1.901415   \n",
       "np.log(capital)  0.207570  0.017188  12.076774   4.875689e-30  0.173811   \n",
       "np.log(labour)   0.714847  0.023142  30.890017  1.569331e-123  0.669393   \n",
       "\n",
       "                   0.975]  \n",
       "Intercept       -1.521504  \n",
       "np.log(capital)  0.241329  \n",
       "np.log(labour)   0.760301  "
      ]
     },
     "execution_count": 34,
     "metadata": {},
     "output_type": "execute_result"
    }
   ],
   "source": [
    "# Загрузим данные\n",
    "df_labour = pd.read_csv('https://raw.githubusercontent.com/artamonoff/Econometrica/master/python-notebooks/data-csv/Labour.csv')\n",
    "# Результаты подгонки\n",
    "mod2 = smf.ols(formula='np.log(output)~np.log(capital)+np.log(labour)', data=df_labour).fit()\n",
    "summary_params(mod2)"
   ]
  },
  {
   "cell_type": "markdown",
   "id": "79a773c2",
   "metadata": {},
   "source": [
    "Тестируется гипотеза $H_0:\\beta_{capital}=0.5$ \n",
    "\n",
    "Результаты тестирования"
   ]
  },
  {
   "cell_type": "code",
   "execution_count": 35,
   "id": "77de77f0",
   "metadata": {},
   "outputs": [
    {
     "data": {
      "text/plain": [
       "<class 'statsmodels.stats.contrast.ContrastResults'>\n",
       "                             Test for Constraints                             \n",
       "==============================================================================\n",
       "                 coef    std err          t      P>|t|      [0.025      0.975]\n",
       "------------------------------------------------------------------------------\n",
       "c0             0.2076      0.017    -17.014      0.000       0.174       0.241\n",
       "=============================================================================="
      ]
     },
     "execution_count": 35,
     "metadata": {},
     "output_type": "execute_result"
    }
   ],
   "source": [
    "mod2.t_test('np.log(capital)=0.5')"
   ]
  },
  {
   "cell_type": "code",
   "execution_count": 36,
   "id": "3dab9ea8",
   "metadata": {},
   "outputs": [
    {
     "data": {
      "text/plain": [
       "2.584543428450176"
      ]
     },
     "execution_count": 36,
     "metadata": {},
     "output_type": "execute_result"
    }
   ],
   "source": [
    "# 1%-критическое значение t-распределения\n",
    "t.ppf(q=1-0.01/2, df=mod2.df_resid)"
   ]
  },
  {
   "cell_type": "markdown",
   "id": "f791abf1",
   "metadata": {},
   "source": [
    "# Доверительные интервалы\n",
    "Пусть $\\gamma$ – доверительная вероятность и $t_{cr}=t_{df=n-k-1}(\\alpha=1-\\gamma)$\n",
    "\n",
    "Доверительный интервал для коэффициента $\\beta$: \n",
    "$$\\left(\\hat{\\beta}-t_{cr}\\cdot s.e.(\\beta)\\, ,\\, \\hat{\\beta}+t_{cr}\\cdot s.e.(\\beta)\\right)$$"
   ]
  },
  {
   "cell_type": "code",
   "execution_count": 37,
   "id": "66730202",
   "metadata": {},
   "outputs": [],
   "source": [
    "import pandas as pd\n",
    "import numpy as np\n",
    "import statsmodels.formula.api as smf\n",
    "import statsmodels.api as sm\n",
    "from statsmodels.iolib.summary2 import summary_col # вывод подгонки\n",
    "from scipy.stats import t # t-распределение"
   ]
  },
  {
   "cell_type": "markdown",
   "id": "86315baf",
   "metadata": {},
   "source": [
    "## Output equation\n",
    "\n",
    "Для набора данных `Labour` рассмотрим регрессию **log(output) на log(capital) и log(labour)**\n",
    "\n",
    "Результаты подгонки"
   ]
  },
  {
   "cell_type": "code",
   "execution_count": 38,
   "id": "40b35d49",
   "metadata": {},
   "outputs": [
    {
     "data": {
      "text/html": [
       "<table class=\"simpletable\">\n",
       "<caption>OLS Regression Results</caption>\n",
       "<tr>\n",
       "  <th>Dep. Variable:</th>    <td>np.log(output)</td> <th>  R-squared:         </th> <td>   0.838</td> \n",
       "</tr>\n",
       "<tr>\n",
       "  <th>Model:</th>                  <td>OLS</td>      <th>  Adj. R-squared:    </th> <td>   0.837</td> \n",
       "</tr>\n",
       "<tr>\n",
       "  <th>No. Observations:</th>     <td>   569</td>     <th>  F-statistic:       </th> <td>   1462.</td> \n",
       "</tr>\n",
       "<tr>\n",
       "  <th>Covariance Type:</th>     <td>nonrobust</td>   <th>  Prob (F-statistic):</th> <td>2.64e-224</td>\n",
       "</tr>\n",
       "</table>\n",
       "<table class=\"simpletable\">\n",
       "<tr>\n",
       "         <td></td>            <th>coef</th>     <th>std err</th>      <th>t</th>      <th>P>|t|</th>  <th>[0.025</th>    <th>0.975]</th>  \n",
       "</tr>\n",
       "<tr>\n",
       "  <th>Intercept</th>       <td>   -1.7115</td> <td>    0.097</td> <td>  -17.697</td> <td> 0.000</td> <td>   -1.901</td> <td>   -1.522</td>\n",
       "</tr>\n",
       "<tr>\n",
       "  <th>np.log(capital)</th> <td>    0.2076</td> <td>    0.017</td> <td>   12.077</td> <td> 0.000</td> <td>    0.174</td> <td>    0.241</td>\n",
       "</tr>\n",
       "<tr>\n",
       "  <th>np.log(labour)</th>  <td>    0.7148</td> <td>    0.023</td> <td>   30.890</td> <td> 0.000</td> <td>    0.669</td> <td>    0.760</td>\n",
       "</tr>\n",
       "</table><br/><br/>Notes:<br/>[1] Standard Errors assume that the covariance matrix of the errors is correctly specified."
      ],
      "text/plain": [
       "<class 'statsmodels.iolib.summary.Summary'>\n",
       "\"\"\"\n",
       "                            OLS Regression Results                            \n",
       "==============================================================================\n",
       "Dep. Variable:         np.log(output)   R-squared:                       0.838\n",
       "Model:                            OLS   Adj. R-squared:                  0.837\n",
       "No. Observations:                 569   F-statistic:                     1462.\n",
       "Covariance Type:            nonrobust   Prob (F-statistic):          2.64e-224\n",
       "===================================================================================\n",
       "                      coef    std err          t      P>|t|      [0.025      0.975]\n",
       "-----------------------------------------------------------------------------------\n",
       "Intercept          -1.7115      0.097    -17.697      0.000      -1.901      -1.522\n",
       "np.log(capital)     0.2076      0.017     12.077      0.000       0.174       0.241\n",
       "np.log(labour)      0.7148      0.023     30.890      0.000       0.669       0.760\n",
       "===================================================================================\n",
       "\n",
       "Notes:\n",
       "[1] Standard Errors assume that the covariance matrix of the errors is correctly specified.\n",
       "\"\"\""
      ]
     },
     "execution_count": 38,
     "metadata": {},
     "output_type": "execute_result"
    }
   ],
   "source": [
    "labour_df = pd.read_csv('https://raw.githubusercontent.com/artamonoff/Econometrica/master/python-notebooks/data-csv/Labour.csv')\n",
    "mod = smf.ols(formula='np.log(output)~np.log(capital)+np.log(labour)', data=labour_df).fit()\n",
    "mod.summary(slim=True)"
   ]
  },
  {
   "cell_type": "markdown",
   "id": "b988ca20",
   "metadata": {},
   "source": [
    "Построим 95%-доверительные интервалы для каждого коэффициента ($\\gamma=0.95$, $\\alpha=0.05$)"
   ]
  },
  {
   "cell_type": "code",
   "execution_count": 39,
   "id": "88a61f4d",
   "metadata": {},
   "outputs": [
    {
     "data": {
      "text/html": [
       "<div>\n",
       "<style scoped>\n",
       "    .dataframe tbody tr th:only-of-type {\n",
       "        vertical-align: middle;\n",
       "    }\n",
       "\n",
       "    .dataframe tbody tr th {\n",
       "        vertical-align: top;\n",
       "    }\n",
       "\n",
       "    .dataframe thead th {\n",
       "        text-align: right;\n",
       "    }\n",
       "</style>\n",
       "<table border=\"1\" class=\"dataframe\">\n",
       "  <thead>\n",
       "    <tr style=\"text-align: right;\">\n",
       "      <th></th>\n",
       "      <th>0</th>\n",
       "      <th>1</th>\n",
       "    </tr>\n",
       "  </thead>\n",
       "  <tbody>\n",
       "    <tr>\n",
       "      <th>Intercept</th>\n",
       "      <td>-1.901415</td>\n",
       "      <td>-1.521504</td>\n",
       "    </tr>\n",
       "    <tr>\n",
       "      <th>np.log(capital)</th>\n",
       "      <td>0.173811</td>\n",
       "      <td>0.241329</td>\n",
       "    </tr>\n",
       "    <tr>\n",
       "      <th>np.log(labour)</th>\n",
       "      <td>0.669393</td>\n",
       "      <td>0.760301</td>\n",
       "    </tr>\n",
       "  </tbody>\n",
       "</table>\n",
       "</div>"
      ],
      "text/plain": [
       "                        0         1\n",
       "Intercept       -1.901415 -1.521504\n",
       "np.log(capital)  0.173811  0.241329\n",
       "np.log(labour)   0.669393  0.760301"
      ]
     },
     "execution_count": 39,
     "metadata": {},
     "output_type": "execute_result"
    }
   ],
   "source": [
    "mod.conf_int(alpha=0.05)"
   ]
  },
  {
   "cell_type": "code",
   "execution_count": 40,
   "id": "0d542f81",
   "metadata": {},
   "outputs": [
    {
     "data": {
      "text/plain": [
       "(Intercept         -1.901415\n",
       " np.log(capital)    0.173811\n",
       " np.log(labour)     0.669393\n",
       " dtype: float64,\n",
       " Intercept         -1.521504\n",
       " np.log(capital)    0.241329\n",
       " np.log(labour)     0.760301\n",
       " dtype: float64)"
      ]
     },
     "execution_count": 40,
     "metadata": {},
     "output_type": "execute_result"
    }
   ],
   "source": [
    "# ручное построение c.i.\n",
    "t_cr = t.ppf(q=1-0.05/2, df=mod.df_resid)\n",
    "mod.params-mod.bse*t_cr, mod.params+mod.bse*t_cr"
   ]
  },
  {
   "cell_type": "markdown",
   "id": "17379a77",
   "metadata": {},
   "source": [
    "Построим 90%-доверительные интервалы для каждого коэффициента ($\\gamma=0.90$, $\\alpha=0.10$)"
   ]
  },
  {
   "cell_type": "code",
   "execution_count": 41,
   "id": "afc43584",
   "metadata": {},
   "outputs": [
    {
     "data": {
      "text/html": [
       "<div>\n",
       "<style scoped>\n",
       "    .dataframe tbody tr th:only-of-type {\n",
       "        vertical-align: middle;\n",
       "    }\n",
       "\n",
       "    .dataframe tbody tr th {\n",
       "        vertical-align: top;\n",
       "    }\n",
       "\n",
       "    .dataframe thead th {\n",
       "        text-align: right;\n",
       "    }\n",
       "</style>\n",
       "<table border=\"1\" class=\"dataframe\">\n",
       "  <thead>\n",
       "    <tr style=\"text-align: right;\">\n",
       "      <th></th>\n",
       "      <th>0</th>\n",
       "      <th>1</th>\n",
       "    </tr>\n",
       "  </thead>\n",
       "  <tbody>\n",
       "    <tr>\n",
       "      <th>Intercept</th>\n",
       "      <td>-1.870795</td>\n",
       "      <td>-1.552124</td>\n",
       "    </tr>\n",
       "    <tr>\n",
       "      <th>np.log(capital)</th>\n",
       "      <td>0.179253</td>\n",
       "      <td>0.235888</td>\n",
       "    </tr>\n",
       "    <tr>\n",
       "      <th>np.log(labour)</th>\n",
       "      <td>0.676720</td>\n",
       "      <td>0.752974</td>\n",
       "    </tr>\n",
       "  </tbody>\n",
       "</table>\n",
       "</div>"
      ],
      "text/plain": [
       "                        0         1\n",
       "Intercept       -1.870795 -1.552124\n",
       "np.log(capital)  0.179253  0.235888\n",
       "np.log(labour)   0.676720  0.752974"
      ]
     },
     "execution_count": 41,
     "metadata": {},
     "output_type": "execute_result"
    }
   ],
   "source": [
    "mod.conf_int(alpha=0.10)"
   ]
  },
  {
   "cell_type": "code",
   "execution_count": null,
   "id": "3e5368e6",
   "metadata": {},
   "outputs": [],
   "source": []
  }
 ],
 "metadata": {
  "kernelspec": {
   "display_name": "Python 3 (ipykernel)",
   "language": "python",
   "name": "python3"
  },
  "language_info": {
   "codemirror_mode": {
    "name": "ipython",
    "version": 3
   },
   "file_extension": ".py",
   "mimetype": "text/x-python",
   "name": "python",
   "nbconvert_exporter": "python",
   "pygments_lexer": "ipython3",
   "version": "3.10.9"
  }
 },
 "nbformat": 4,
 "nbformat_minor": 5
}
