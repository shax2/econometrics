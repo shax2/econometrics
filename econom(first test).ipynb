{
 "cells": [
  {
   "cell_type": "markdown",
   "id": "a3078ef2",
   "metadata": {},
   "source": [
    "# OLS - метод наименьших квадратов"
   ]
  },
  {
   "cell_type": "code",
   "execution_count": 1,
   "id": "9aa89cdc",
   "metadata": {},
   "outputs": [],
   "source": [
    "import numpy as np # linear algebra \n",
    "import pandas as pd # data processing, CSV file I/O (e.g. pd.read_csv)\n",
    "# stats models: regression fitting\n",
    "import statsmodels.formula.api as smf\n",
    "# data visualization\n",
    "import seaborn as sns"
   ]
  },
  {
   "cell_type": "code",
   "execution_count": 2,
   "id": "30f95ffb",
   "metadata": {},
   "outputs": [
    {
     "data": {
      "text/plain": [
       "(706, 34)"
      ]
     },
     "execution_count": 2,
     "metadata": {},
     "output_type": "execute_result"
    }
   ],
   "source": [
    "df = pd.read_csv('sleep75.csv')\n",
    "df.shape"
   ]
  },
  {
   "cell_type": "code",
   "execution_count": 4,
   "id": "f1a65f5f",
   "metadata": {},
   "outputs": [
    {
     "data": {
      "text/plain": [
       "Intercept    3586.38\n",
       "totwrk         -0.15\n",
       "dtype: float64"
      ]
     },
     "execution_count": 4,
     "metadata": {},
     "output_type": "execute_result"
    }
   ],
   "source": [
    "# подгонка прямой\n",
    "fitted_line = smf.ols(formula='sleep~totwrk', data=df).fit()\n",
    "# коэффициенты с округлением\n",
    "fitted_line.params.round(2)"
   ]
  },
  {
   "cell_type": "markdown",
   "id": "5026a898",
   "metadata": {},
   "source": [
    "# Суммы квадратов (TSS, ESS, RSS)"
   ]
  },
  {
   "cell_type": "code",
   "execution_count": 7,
   "id": "b4c8fd4e",
   "metadata": {},
   "outputs": [],
   "source": [
    "df_sleep = pd.read_csv('sleep75.csv')\n",
    "# Подгонка модели\n",
    "sleep_eq = smf.ols(formula='sleep~totwrk+age+male+smsa', data=df_sleep).fit()"
   ]
  },
  {
   "cell_type": "code",
   "execution_count": 8,
   "id": "109ecf6e",
   "metadata": {},
   "outputs": [
    {
     "data": {
      "text/plain": [
       "139239835.76345608"
      ]
     },
     "execution_count": 8,
     "metadata": {},
     "output_type": "execute_result"
    }
   ],
   "source": [
    "# TSS\n",
    "sleep_eq.centered_tss"
   ]
  },
  {
   "cell_type": "code",
   "execution_count": 9,
   "id": "a010b752",
   "metadata": {},
   "outputs": [
    {
     "data": {
      "text/plain": [
       "17188382.233617336"
      ]
     },
     "execution_count": 9,
     "metadata": {},
     "output_type": "execute_result"
    }
   ],
   "source": [
    "# ESS\n",
    "sleep_eq.ess"
   ]
  },
  {
   "cell_type": "code",
   "execution_count": 10,
   "id": "446650a8",
   "metadata": {},
   "outputs": [
    {
     "data": {
      "text/plain": [
       "122051453.52983874"
      ]
     },
     "execution_count": 10,
     "metadata": {},
     "output_type": "execute_result"
    }
   ],
   "source": [
    "# RSS\n",
    "sleep_eq.ssr"
   ]
  },
  {
   "cell_type": "markdown",
   "id": "a1ef08e4",
   "metadata": {},
   "source": [
    "# Предсказанные значения и остатки"
   ]
  },
  {
   "cell_type": "code",
   "execution_count": 12,
   "id": "6cc360e5",
   "metadata": {},
   "outputs": [],
   "source": [
    "ind = np.array([1, 4, 6, 10, 508, 700])-1"
   ]
  },
  {
   "cell_type": "code",
   "execution_count": 16,
   "id": "ef38c0a2",
   "metadata": {},
   "outputs": [
    {
     "data": {
      "text/plain": [
       "0      3094.453743\n",
       "3      2943.579539\n",
       "5      3494.142891\n",
       "9      3111.983473\n",
       "507    3476.913947\n",
       "699    3295.398425\n",
       "dtype: float64"
      ]
     },
     "execution_count": 16,
     "metadata": {},
     "output_type": "execute_result"
    }
   ],
   "source": [
    "# Предсказанные\n",
    "sleep_eq.fittedvalues[ind]"
   ]
  },
  {
   "cell_type": "code",
   "execution_count": 14,
   "id": "d85c865f",
   "metadata": {},
   "outputs": [
    {
     "data": {
      "text/plain": [
       "0       18.546257\n",
       "3      139.420461\n",
       "5      568.857109\n",
       "9      -93.983473\n",
       "507    153.086053\n",
       "699   -302.398425\n",
       "dtype: float64"
      ]
     },
     "execution_count": 14,
     "metadata": {},
     "output_type": "execute_result"
    }
   ],
   "source": [
    "# Остатки\n",
    "sleep_eq.resid[ind]"
   ]
  },
  {
   "cell_type": "code",
   "execution_count": 17,
   "id": "4e2560eb",
   "metadata": {},
   "outputs": [
    {
     "data": {
      "text/plain": [
       "0      3113\n",
       "3      3083\n",
       "5      4063\n",
       "9      3018\n",
       "507    3630\n",
       "699    2993\n",
       "Name: sleep, dtype: int64"
      ]
     },
     "execution_count": 17,
     "metadata": {},
     "output_type": "execute_result"
    }
   ],
   "source": [
    "# Фактические\n",
    "df_sleep['sleep'].iloc[ind]"
   ]
  },
  {
   "cell_type": "markdown",
   "id": "826a69ae",
   "metadata": {},
   "source": [
    "## $R^2$ & $adj.R^2$"
   ]
  },
  {
   "cell_type": "code",
   "execution_count": 18,
   "id": "d72153f6",
   "metadata": {},
   "outputs": [
    {
     "data": {
      "text/plain": [
       "0.12344443053507592"
      ]
     },
     "execution_count": 18,
     "metadata": {},
     "output_type": "execute_result"
    }
   ],
   "source": [
    "# R^2\n",
    "sleep_eq.rsquared"
   ]
  },
  {
   "cell_type": "code",
   "execution_count": 19,
   "id": "6a8ab8ed",
   "metadata": {},
   "outputs": [
    {
     "data": {
      "text/plain": [
       "0.11844268691473403"
      ]
     },
     "execution_count": 19,
     "metadata": {},
     "output_type": "execute_result"
    }
   ],
   "source": [
    "# adj R^2\n",
    "sleep_eq.rsquared_adj"
   ]
  },
  {
   "cell_type": "code",
   "execution_count": null,
   "id": "6e3a04a9",
   "metadata": {},
   "outputs": [],
   "source": []
  }
 ],
 "metadata": {
  "kernelspec": {
   "display_name": "Python 3 (ipykernel)",
   "language": "python",
   "name": "python3"
  },
  "language_info": {
   "codemirror_mode": {
    "name": "ipython",
    "version": 3
   },
   "file_extension": ".py",
   "mimetype": "text/x-python",
   "name": "python",
   "nbconvert_exporter": "python",
   "pygments_lexer": "ipython3",
   "version": "3.9.16"
  }
 },
 "nbformat": 4,
 "nbformat_minor": 5
}
